{
 "cells": [
  {
   "metadata": {},
   "cell_type": "markdown",
   "source": "# **Euros 2024**",
   "id": "a432b15f6b390201"
  },
  {
   "metadata": {},
   "cell_type": "markdown",
   "source": "## This file main purpose is to get data on players who participated in the 2024 euros",
   "id": "5413268b4b39acfa"
  },
  {
   "metadata": {},
   "cell_type": "markdown",
   "source": [
    "#### Install all necessary imports for this project\n",
    "Which include:\n",
    "\n",
    "* soccerdata → unified access to FBref, ClubElo, FiveThirtyEight SPI, Understat.\n",
    "* duckdb → local analytical database (you can query Parquet files fast).\n",
    "* polars → faster DataFrame engine for cleaning/aggregation.\n",
    "* requests + beautifulsoup4 + lxml → fallback scrapers for tournaments soccerdata doesn’t expose yet.\n",
    "* tqdm → progress bars while fetching.\n"
   ],
   "id": "9c635ca22adf18a8"
  },
  {
   "cell_type": "code",
   "id": "initial_id",
   "metadata": {
    "collapsed": true,
    "ExecuteTime": {
     "end_time": "2025-10-09T09:33:30.397089Z",
     "start_time": "2025-10-09T09:33:29.517025Z"
    }
   },
   "source": "pip install soccerdata duckdb polars requests beautifulsoup4 lxml tqdm # type:ignore",
   "outputs": [
    {
     "name": "stdout",
     "output_type": "stream",
     "text": [
      "Requirement already satisfied: soccerdata in /Users/derrick/DataspellProjects/epl/epl-predictor/backend/epl/lib/python3.11/site-packages (1.8.7)\r\n",
      "Requirement already satisfied: duckdb in /Users/derrick/DataspellProjects/epl/epl-predictor/backend/epl/lib/python3.11/site-packages (1.4.0)\r\n",
      "Requirement already satisfied: polars in /Users/derrick/DataspellProjects/epl/epl-predictor/backend/epl/lib/python3.11/site-packages (1.34.0)\r\n",
      "Requirement already satisfied: requests in /Users/derrick/DataspellProjects/epl/epl-predictor/backend/epl/lib/python3.11/site-packages (2.32.5)\r\n",
      "Requirement already satisfied: beautifulsoup4 in /Users/derrick/DataspellProjects/epl/epl-predictor/backend/epl/lib/python3.11/site-packages (4.14.2)\r\n",
      "Requirement already satisfied: lxml in /Users/derrick/DataspellProjects/epl/epl-predictor/backend/epl/lib/python3.11/site-packages (4.9.4)\r\n",
      "Requirement already satisfied: tqdm in /Users/derrick/DataspellProjects/epl/epl-predictor/backend/epl/lib/python3.11/site-packages (4.67.1)\r\n",
      "Requirement already satisfied: PySocks<2.0.0,>=1.7.1 in /Users/derrick/DataspellProjects/epl/epl-predictor/backend/epl/lib/python3.11/site-packages (from soccerdata) (1.7.1)\r\n",
      "Requirement already satisfied: Unidecode<2.0.0,>=1.2.0 in /Users/derrick/DataspellProjects/epl/epl-predictor/backend/epl/lib/python3.11/site-packages (from soccerdata) (1.4.0)\r\n",
      "Requirement already satisfied: cloudscraper<2.0.0,>=1.2.71 in /Users/derrick/DataspellProjects/epl/epl-predictor/backend/epl/lib/python3.11/site-packages (from soccerdata) (1.2.71)\r\n",
      "Requirement already satisfied: html5lib<2.0,>=1.1 in /Users/derrick/DataspellProjects/epl/epl-predictor/backend/epl/lib/python3.11/site-packages (from soccerdata) (1.1)\r\n",
      "Requirement already satisfied: packaging<25.0,>=24.1 in /Users/derrick/DataspellProjects/epl/epl-predictor/backend/epl/lib/python3.11/site-packages (from soccerdata) (24.2)\r\n",
      "Requirement already satisfied: pandas!=2.1.0,<3.0.0,>=2.0.0 in /Users/derrick/DataspellProjects/epl/epl-predictor/backend/epl/lib/python3.11/site-packages (from soccerdata) (2.3.3)\r\n",
      "Requirement already satisfied: rich<14.0.0,>=13.0.0 in /Users/derrick/DataspellProjects/epl/epl-predictor/backend/epl/lib/python3.11/site-packages (from soccerdata) (13.9.4)\r\n",
      "Requirement already satisfied: undetected-chromedriver<4.0.0,>=3.5.0 in /Users/derrick/DataspellProjects/epl/epl-predictor/backend/epl/lib/python3.11/site-packages (from soccerdata) (3.5.5)\r\n",
      "Requirement already satisfied: unicode<3.0,>=2.7 in /Users/derrick/DataspellProjects/epl/epl-predictor/backend/epl/lib/python3.11/site-packages (from soccerdata) (2.9)\r\n",
      "Requirement already satisfied: polars-runtime-32==1.34.0 in /Users/derrick/DataspellProjects/epl/epl-predictor/backend/epl/lib/python3.11/site-packages (from polars) (1.34.0)\r\n",
      "Requirement already satisfied: charset_normalizer<4,>=2 in /Users/derrick/DataspellProjects/epl/epl-predictor/backend/epl/lib/python3.11/site-packages (from requests) (3.4.3)\r\n",
      "Requirement already satisfied: idna<4,>=2.5 in /Users/derrick/DataspellProjects/epl/epl-predictor/backend/epl/lib/python3.11/site-packages (from requests) (3.10)\r\n",
      "Requirement already satisfied: urllib3<3,>=1.21.1 in /Users/derrick/DataspellProjects/epl/epl-predictor/backend/epl/lib/python3.11/site-packages (from requests) (2.5.0)\r\n",
      "Requirement already satisfied: certifi>=2017.4.17 in /Users/derrick/DataspellProjects/epl/epl-predictor/backend/epl/lib/python3.11/site-packages (from requests) (2025.10.5)\r\n",
      "Requirement already satisfied: soupsieve>1.2 in /Users/derrick/DataspellProjects/epl/epl-predictor/backend/epl/lib/python3.11/site-packages (from beautifulsoup4) (2.8)\r\n",
      "Requirement already satisfied: typing-extensions>=4.0.0 in /Users/derrick/DataspellProjects/epl/epl-predictor/backend/epl/lib/python3.11/site-packages (from beautifulsoup4) (4.15.0)\r\n",
      "Requirement already satisfied: pyparsing>=2.4.7 in /Users/derrick/DataspellProjects/epl/epl-predictor/backend/epl/lib/python3.11/site-packages (from cloudscraper<2.0.0,>=1.2.71->soccerdata) (3.2.5)\r\n",
      "Requirement already satisfied: requests-toolbelt>=0.9.1 in /Users/derrick/DataspellProjects/epl/epl-predictor/backend/epl/lib/python3.11/site-packages (from cloudscraper<2.0.0,>=1.2.71->soccerdata) (1.0.0)\r\n",
      "Requirement already satisfied: six>=1.9 in /Users/derrick/DataspellProjects/epl/epl-predictor/backend/epl/lib/python3.11/site-packages (from html5lib<2.0,>=1.1->soccerdata) (1.17.0)\r\n",
      "Requirement already satisfied: webencodings in /Users/derrick/DataspellProjects/epl/epl-predictor/backend/epl/lib/python3.11/site-packages (from html5lib<2.0,>=1.1->soccerdata) (0.5.1)\r\n",
      "Requirement already satisfied: numpy>=1.23.2 in /Users/derrick/DataspellProjects/epl/epl-predictor/backend/epl/lib/python3.11/site-packages (from pandas!=2.1.0,<3.0.0,>=2.0.0->soccerdata) (2.3.3)\r\n",
      "Requirement already satisfied: python-dateutil>=2.8.2 in /Users/derrick/DataspellProjects/epl/epl-predictor/backend/epl/lib/python3.11/site-packages (from pandas!=2.1.0,<3.0.0,>=2.0.0->soccerdata) (2.9.0.post0)\r\n",
      "Requirement already satisfied: pytz>=2020.1 in /Users/derrick/DataspellProjects/epl/epl-predictor/backend/epl/lib/python3.11/site-packages (from pandas!=2.1.0,<3.0.0,>=2.0.0->soccerdata) (2025.2)\r\n",
      "Requirement already satisfied: tzdata>=2022.7 in /Users/derrick/DataspellProjects/epl/epl-predictor/backend/epl/lib/python3.11/site-packages (from pandas!=2.1.0,<3.0.0,>=2.0.0->soccerdata) (2025.2)\r\n",
      "Requirement already satisfied: markdown-it-py>=2.2.0 in /Users/derrick/DataspellProjects/epl/epl-predictor/backend/epl/lib/python3.11/site-packages (from rich<14.0.0,>=13.0.0->soccerdata) (4.0.0)\r\n",
      "Requirement already satisfied: pygments<3.0.0,>=2.13.0 in /Users/derrick/DataspellProjects/epl/epl-predictor/backend/epl/lib/python3.11/site-packages (from rich<14.0.0,>=13.0.0->soccerdata) (2.19.2)\r\n",
      "Requirement already satisfied: selenium>=4.9.0 in /Users/derrick/DataspellProjects/epl/epl-predictor/backend/epl/lib/python3.11/site-packages (from undetected-chromedriver<4.0.0,>=3.5.0->soccerdata) (4.36.0)\r\n",
      "Requirement already satisfied: websockets in /Users/derrick/DataspellProjects/epl/epl-predictor/backend/epl/lib/python3.11/site-packages (from undetected-chromedriver<4.0.0,>=3.5.0->soccerdata) (15.0.1)\r\n",
      "Requirement already satisfied: mdurl~=0.1 in /Users/derrick/DataspellProjects/epl/epl-predictor/backend/epl/lib/python3.11/site-packages (from markdown-it-py>=2.2.0->rich<14.0.0,>=13.0.0->soccerdata) (0.1.2)\r\n",
      "Requirement already satisfied: trio<1.0,>=0.30.0 in /Users/derrick/DataspellProjects/epl/epl-predictor/backend/epl/lib/python3.11/site-packages (from selenium>=4.9.0->undetected-chromedriver<4.0.0,>=3.5.0->soccerdata) (0.31.0)\r\n",
      "Requirement already satisfied: trio-websocket<1.0,>=0.12.2 in /Users/derrick/DataspellProjects/epl/epl-predictor/backend/epl/lib/python3.11/site-packages (from selenium>=4.9.0->undetected-chromedriver<4.0.0,>=3.5.0->soccerdata) (0.12.2)\r\n",
      "Requirement already satisfied: websocket-client<2.0,>=1.8.0 in /Users/derrick/DataspellProjects/epl/epl-predictor/backend/epl/lib/python3.11/site-packages (from selenium>=4.9.0->undetected-chromedriver<4.0.0,>=3.5.0->soccerdata) (1.8.0)\r\n",
      "Requirement already satisfied: attrs>=23.2.0 in /Users/derrick/DataspellProjects/epl/epl-predictor/backend/epl/lib/python3.11/site-packages (from trio<1.0,>=0.30.0->selenium>=4.9.0->undetected-chromedriver<4.0.0,>=3.5.0->soccerdata) (25.3.0)\r\n",
      "Requirement already satisfied: sortedcontainers in /Users/derrick/DataspellProjects/epl/epl-predictor/backend/epl/lib/python3.11/site-packages (from trio<1.0,>=0.30.0->selenium>=4.9.0->undetected-chromedriver<4.0.0,>=3.5.0->soccerdata) (2.4.0)\r\n",
      "Requirement already satisfied: outcome in /Users/derrick/DataspellProjects/epl/epl-predictor/backend/epl/lib/python3.11/site-packages (from trio<1.0,>=0.30.0->selenium>=4.9.0->undetected-chromedriver<4.0.0,>=3.5.0->soccerdata) (1.3.0.post0)\r\n",
      "Requirement already satisfied: sniffio>=1.3.0 in /Users/derrick/DataspellProjects/epl/epl-predictor/backend/epl/lib/python3.11/site-packages (from trio<1.0,>=0.30.0->selenium>=4.9.0->undetected-chromedriver<4.0.0,>=3.5.0->soccerdata) (1.3.1)\r\n",
      "Requirement already satisfied: wsproto>=0.14 in /Users/derrick/DataspellProjects/epl/epl-predictor/backend/epl/lib/python3.11/site-packages (from trio-websocket<1.0,>=0.12.2->selenium>=4.9.0->undetected-chromedriver<4.0.0,>=3.5.0->soccerdata) (1.2.0)\r\n",
      "Requirement already satisfied: h11<1,>=0.9.0 in /Users/derrick/DataspellProjects/epl/epl-predictor/backend/epl/lib/python3.11/site-packages (from wsproto>=0.14->trio-websocket<1.0,>=0.12.2->selenium>=4.9.0->undetected-chromedriver<4.0.0,>=3.5.0->soccerdata) (0.16.0)\r\n",
      "\r\n",
      "\u001B[1m[\u001B[0m\u001B[34;49mnotice\u001B[0m\u001B[1;39;49m]\u001B[0m\u001B[39;49m A new release of pip is available: \u001B[0m\u001B[31;49m24.0\u001B[0m\u001B[39;49m -> \u001B[0m\u001B[32;49m25.2\u001B[0m\r\n",
      "\u001B[1m[\u001B[0m\u001B[34;49mnotice\u001B[0m\u001B[1;39;49m]\u001B[0m\u001B[39;49m To update, run: \u001B[0m\u001B[32;49mpip install --upgrade pip\u001B[0m\r\n",
      "Note: you may need to restart the kernel to use updated packages.\n"
     ]
    }
   ],
   "execution_count": 34
  },
  {
   "metadata": {
    "ExecuteTime": {
     "end_time": "2025-10-09T09:33:31.204819Z",
     "start_time": "2025-10-09T09:33:30.412464Z"
    }
   },
   "cell_type": "code",
   "source": "!pip install pyarrow fastparquet",
   "id": "2836e2787705840c",
   "outputs": [
    {
     "name": "stdout",
     "output_type": "stream",
     "text": [
      "Requirement already satisfied: pyarrow in /Users/derrick/DataspellProjects/epl/epl-predictor/backend/epl/lib/python3.11/site-packages (21.0.0)\r\n",
      "Requirement already satisfied: fastparquet in /Users/derrick/DataspellProjects/epl/epl-predictor/backend/epl/lib/python3.11/site-packages (2024.11.0)\r\n",
      "Requirement already satisfied: pandas>=1.5.0 in /Users/derrick/DataspellProjects/epl/epl-predictor/backend/epl/lib/python3.11/site-packages (from fastparquet) (2.3.3)\r\n",
      "Requirement already satisfied: numpy in /Users/derrick/DataspellProjects/epl/epl-predictor/backend/epl/lib/python3.11/site-packages (from fastparquet) (2.3.3)\r\n",
      "Requirement already satisfied: cramjam>=2.3 in /Users/derrick/DataspellProjects/epl/epl-predictor/backend/epl/lib/python3.11/site-packages (from fastparquet) (2.11.0)\r\n",
      "Requirement already satisfied: fsspec in /Users/derrick/DataspellProjects/epl/epl-predictor/backend/epl/lib/python3.11/site-packages (from fastparquet) (2025.9.0)\r\n",
      "Requirement already satisfied: packaging in /Users/derrick/DataspellProjects/epl/epl-predictor/backend/epl/lib/python3.11/site-packages (from fastparquet) (24.2)\r\n",
      "Requirement already satisfied: python-dateutil>=2.8.2 in /Users/derrick/DataspellProjects/epl/epl-predictor/backend/epl/lib/python3.11/site-packages (from pandas>=1.5.0->fastparquet) (2.9.0.post0)\r\n",
      "Requirement already satisfied: pytz>=2020.1 in /Users/derrick/DataspellProjects/epl/epl-predictor/backend/epl/lib/python3.11/site-packages (from pandas>=1.5.0->fastparquet) (2025.2)\r\n",
      "Requirement already satisfied: tzdata>=2022.7 in /Users/derrick/DataspellProjects/epl/epl-predictor/backend/epl/lib/python3.11/site-packages (from pandas>=1.5.0->fastparquet) (2025.2)\r\n",
      "Requirement already satisfied: six>=1.5 in /Users/derrick/DataspellProjects/epl/epl-predictor/backend/epl/lib/python3.11/site-packages (from python-dateutil>=2.8.2->pandas>=1.5.0->fastparquet) (1.17.0)\r\n",
      "\r\n",
      "\u001B[1m[\u001B[0m\u001B[34;49mnotice\u001B[0m\u001B[1;39;49m]\u001B[0m\u001B[39;49m A new release of pip is available: \u001B[0m\u001B[31;49m24.0\u001B[0m\u001B[39;49m -> \u001B[0m\u001B[32;49m25.2\u001B[0m\r\n",
      "\u001B[1m[\u001B[0m\u001B[34;49mnotice\u001B[0m\u001B[1;39;49m]\u001B[0m\u001B[39;49m To update, run: \u001B[0m\u001B[32;49mpip install --upgrade pip\u001B[0m\r\n"
     ]
    }
   ],
   "execution_count": 35
  },
  {
   "metadata": {
    "ExecuteTime": {
     "end_time": "2025-10-09T09:35:53.907811Z",
     "start_time": "2025-10-09T09:35:51.280646Z"
    }
   },
   "cell_type": "code",
   "source": "!pip install -U \"pandas>=2.2.3\" \"pyarrow>=15\"",
   "id": "4a6d542e531424d1",
   "outputs": [
    {
     "name": "stdout",
     "output_type": "stream",
     "text": [
      "Requirement already satisfied: pandas>=2.2.3 in /Users/derrick/DataspellProjects/epl/epl-predictor/backend/epl/lib/python3.11/site-packages (2.3.3)\r\n",
      "Requirement already satisfied: pyarrow>=15 in /Users/derrick/DataspellProjects/epl/epl-predictor/backend/epl/lib/python3.11/site-packages (21.0.0)\r\n",
      "Requirement already satisfied: numpy>=1.23.2 in /Users/derrick/DataspellProjects/epl/epl-predictor/backend/epl/lib/python3.11/site-packages (from pandas>=2.2.3) (2.3.3)\r\n",
      "Requirement already satisfied: python-dateutil>=2.8.2 in /Users/derrick/DataspellProjects/epl/epl-predictor/backend/epl/lib/python3.11/site-packages (from pandas>=2.2.3) (2.9.0.post0)\r\n",
      "Requirement already satisfied: pytz>=2020.1 in /Users/derrick/DataspellProjects/epl/epl-predictor/backend/epl/lib/python3.11/site-packages (from pandas>=2.2.3) (2025.2)\r\n",
      "Requirement already satisfied: tzdata>=2022.7 in /Users/derrick/DataspellProjects/epl/epl-predictor/backend/epl/lib/python3.11/site-packages (from pandas>=2.2.3) (2025.2)\r\n",
      "Requirement already satisfied: six>=1.5 in /Users/derrick/DataspellProjects/epl/epl-predictor/backend/epl/lib/python3.11/site-packages (from python-dateutil>=2.8.2->pandas>=2.2.3) (1.17.0)\r\n",
      "\r\n",
      "\u001B[1m[\u001B[0m\u001B[34;49mnotice\u001B[0m\u001B[1;39;49m]\u001B[0m\u001B[39;49m A new release of pip is available: \u001B[0m\u001B[31;49m24.0\u001B[0m\u001B[39;49m -> \u001B[0m\u001B[32;49m25.2\u001B[0m\r\n",
      "\u001B[1m[\u001B[0m\u001B[34;49mnotice\u001B[0m\u001B[1;39;49m]\u001B[0m\u001B[39;49m To update, run: \u001B[0m\u001B[32;49mpip install --upgrade pip\u001B[0m\r\n"
     ]
    }
   ],
   "execution_count": 46
  },
  {
   "metadata": {
    "ExecuteTime": {
     "end_time": "2025-10-09T09:35:58.577349Z",
     "start_time": "2025-10-09T09:35:58.573853Z"
    }
   },
   "cell_type": "code",
   "source": [
    "from soccerdata import FBref\n",
    "from pathlib import Path\n",
    "import pandas as pd\n",
    "from typing import Dict\n",
    "import os\n"
   ],
   "id": "93144b7036241e77",
   "outputs": [],
   "execution_count": 47
  },
  {
   "metadata": {},
   "cell_type": "markdown",
   "source": "# Storage for the output\n",
   "id": "870d59d7142b87d6"
  },
  {
   "metadata": {
    "ExecuteTime": {
     "end_time": "2025-10-09T09:36:01.520575Z",
     "start_time": "2025-10-09T09:36:01.517767Z"
    }
   },
   "cell_type": "code",
   "source": "print(os.getcwd())",
   "id": "b7af61241b45fd74",
   "outputs": [
    {
     "name": "stdout",
     "output_type": "stream",
     "text": [
      "/Users/derrick/DataspellProjects/epl/epl-predictor/backend/data/tournaments\n"
     ]
    }
   ],
   "execution_count": 48
  },
  {
   "metadata": {
    "ExecuteTime": {
     "end_time": "2025-10-09T09:36:02.824860Z",
     "start_time": "2025-10-09T09:36:02.820332Z"
    }
   },
   "cell_type": "code",
   "source": [
    "BASE = Path.cwd()\n",
    "OUT_RAW = BASE / \"outputs\" / \"raw\"\n",
    "OUT_STAGING = BASE / \"outputs\" / \"staging\"\n",
    "OUT_PROCESSED = BASE / \"outputs\" / \"processed\"\n",
    "for p in (OUT_RAW, OUT_STAGING, OUT_PROCESSED):\n",
    "    p.mkdir(parents=True, exist_ok=True)"
   ],
   "id": "e54937429c502bf0",
   "outputs": [],
   "execution_count": 49
  },
  {
   "metadata": {},
   "cell_type": "markdown",
   "source": "# Step 1: Data retrieval",
   "id": "a1d99726bec02264"
  },
  {
   "metadata": {},
   "cell_type": "markdown",
   "source": [
    "i. The first step is where do I get the data related to the euros 2024, I chose soccerdata as my source of data, due to its api, connection to other football data\n",
    "sites and its simplicity to use"
   ],
   "id": "2c47884a57737ad2"
  },
  {
   "metadata": {
    "ExecuteTime": {
     "end_time": "2025-10-09T09:36:04.916217Z",
     "start_time": "2025-10-09T09:36:04.874741Z"
    }
   },
   "cell_type": "code",
   "source": [
    "\n",
    "euros_24 = FBref(\n",
    "    leagues='INT-European Championship',\n",
    "    seasons='2024'\n",
    ")\n"
   ],
   "id": "5ba1374b6833c393",
   "outputs": [
    {
     "data": {
      "text/plain": [
       "\u001B[2;36m[10/09/25 12:36:04]\u001B[0m\u001B[2;36m \u001B[0m\u001B[34mINFO    \u001B[0m Saving cached data to \u001B[35m/Users/derrick/soccerdata/data/\u001B[0m\u001B[95mFBref\u001B[0m              \u001B]8;id=859516;file:///Users/derrick/DataspellProjects/epl/epl-predictor/backend/epl/lib/python3.11/site-packages/soccerdata/_common.py\u001B\\\u001B[2m_common.py\u001B[0m\u001B]8;;\u001B\\\u001B[2m:\u001B[0m\u001B]8;id=800873;file:///Users/derrick/DataspellProjects/epl/epl-predictor/backend/epl/lib/python3.11/site-packages/soccerdata/_common.py#263\u001B\\\u001B[2m263\u001B[0m\u001B]8;;\u001B\\\n"
      ],
      "text/html": [
       "<pre style=\"white-space:pre;overflow-x:auto;line-height:normal;font-family:Menlo,'DejaVu Sans Mono',consolas,'Courier New',monospace\"><span style=\"color: #7fbfbf; text-decoration-color: #7fbfbf\">[10/09/25 12:36:04] </span><span style=\"color: #000080; text-decoration-color: #000080\">INFO    </span> Saving cached data to <span style=\"color: #800080; text-decoration-color: #800080\">/Users/derrick/soccerdata/data/</span><span style=\"color: #ff00ff; text-decoration-color: #ff00ff\">FBref</span>              <a href=\"file:///Users/derrick/DataspellProjects/epl/epl-predictor/backend/epl/lib/python3.11/site-packages/soccerdata/_common.py\" target=\"_blank\"><span style=\"color: #7f7f7f; text-decoration-color: #7f7f7f\">_common.py</span></a><span style=\"color: #7f7f7f; text-decoration-color: #7f7f7f\">:</span><a href=\"file:///Users/derrick/DataspellProjects/epl/epl-predictor/backend/epl/lib/python3.11/site-packages/soccerdata/_common.py#263\" target=\"_blank\"><span style=\"color: #7f7f7f; text-decoration-color: #7f7f7f\">263</span></a>\n",
       "</pre>\n"
      ]
     },
     "metadata": {},
     "output_type": "display_data"
    }
   ],
   "execution_count": 50
  },
  {
   "metadata": {},
   "cell_type": "markdown",
   "source": "ii. Since it's raw data,I  am not aiming to collect all data for the model, just specific columns that tie in to the player",
   "id": "e661429c38f6a69e"
  },
  {
   "metadata": {
    "ExecuteTime": {
     "end_time": "2025-10-09T09:36:06.733011Z",
     "start_time": "2025-10-09T09:36:06.728330Z"
    }
   },
   "cell_type": "code",
   "source": [
    "player_info: Dict[str, str] = \\\n",
    "{\n",
    "        # General info\n",
    "        \"league\": \"league\",\n",
    "        \"season\": \"tournament_year\",\n",
    "        \"team\": \"team_name\",\n",
    "        \"player\": \"player_name\",\n",
    "        \"nation\": \"player_country\",\n",
    "        \"pos\": \"pos_raw\",\n",
    "        \"age\": \"age\",\n",
    "        \"born\": \"birth_year\",\n",
    "\n",
    "        # Playing time\n",
    "        \"playing_time_mp\": \"mp\",\n",
    "        \"playing_time_starts\": \"starts\",\n",
    "        \"playing_time_min\": \"minutes\",\n",
    "        \"playing_time_90s\": \"nineties\",\n",
    "\n",
    "        # Totals (performance/xg blocks)\n",
    "        \"performance_gls\": \"gls\",\n",
    "        \"performance_ast\": \"ast\",\n",
    "        \"performance_gplus_a\": \"ga\",\n",
    "        \"performance_g_pk\": \"g_pk\",\n",
    "\n",
    "        \"expected_xg\": \"xg\",\n",
    "        \"expected_xag\": \"xag\",\n",
    "        \"expected_xgplusxag\": \"xg_xag\",\n",
    "        \"expected_npxg\": \"npxg\",\n",
    "        \"expected_npxgplusxag\": \"npxg_xag\",\n",
    "\n",
    "        # Per 90 (performance block)\n",
    "        \"per_90_minutes_gls\": \"gls_90\",\n",
    "        \"per_90_minutes_ast\": \"ast_90\",\n",
    "        \"per_90_minutes_gplus_a\": \"ga_90\",\n",
    "        \"per_90_minutes_g_pk\": \"g_pk_90\",\n",
    "}"
   ],
   "id": "ad20f818e4f044e6",
   "outputs": [],
   "execution_count": 51
  },
  {
   "metadata": {
    "ExecuteTime": {
     "end_time": "2025-10-09T09:36:09.796822Z",
     "start_time": "2025-10-09T09:36:09.794416Z"
    }
   },
   "cell_type": "code",
   "source": "print(season_stats.columns[:5])",
   "id": "23eac9ad15b136be",
   "outputs": [
    {
     "name": "stdout",
     "output_type": "stream",
     "text": [
      "MultiIndex([(      'nation',   ''),\n",
      "            (         'pos',   ''),\n",
      "            (         'age',   ''),\n",
      "            (        'born',   ''),\n",
      "            ('Playing Time', 'MP')],\n",
      "           )\n"
     ]
    }
   ],
   "execution_count": 52
  },
  {
   "metadata": {},
   "cell_type": "markdown",
   "source": [
    "Problem:\n",
    "The data is not a typical dataframe, but the columns come as multiindex columns, which basically mean that the have two levels\n",
    "one for the column name and the actual stat, that why the columnsn in the data frame have:\n",
    "*     ('Playing Time', 'Min')\n",
    "*     ('Playing Time', 'Starts')\n",
    "*     ('Per 90 Minutes', 'Ast')\n",
    "\n",
    "So we need to flatten this to sort of join the to be:\n",
    "*     'playing_time_min'\n",
    "*     'playing_time_starts'\n",
    "*     'per_90_minutes_ast'\n",
    "\n",
    "Solution:\n",
    "We will create a function that does two things\n",
    "1. Joins the two sections\\levels.\n",
    "2. Also standardises the names to Playing Time -> playing_time..."
   ],
   "id": "dd10bb579acec1a5"
  },
  {
   "metadata": {
    "ExecuteTime": {
     "end_time": "2025-10-09T09:36:12.328683Z",
     "start_time": "2025-10-09T09:36:12.322922Z"
    }
   },
   "cell_type": "code",
   "source": [
    "def _flatten_cols(df: pd.DataFrame) -> pd.DataFrame:\n",
    "    \"\"\"Flatten season_stats MultiIndex columns to snake_case strings.\"\"\"\n",
    "    def norm(x):\n",
    "        x = (\n",
    "            str(x)\n",
    "             .strip()\n",
    "             .lower()\n",
    "             .replace(' ', '_')\n",
    "             .replace('%', 'pct')\n",
    "             .replace('-', '_')\n",
    "             .replace('+', 'plus')\n",
    "             .replace('/', '_'))\n",
    "        return x\n",
    "    if isinstance(df.columns, pd.MultiIndex):\n",
    "         df = df.copy()\n",
    "         # a(Playing Time, min)\n",
    "         df.columns = ['_'.join([norm(a) for a in tup if a and str(a) != 'nan']).strip('_')\n",
    "                       for tup in df.columns.tolist()]\n",
    "         # df.columns = [playing_time_min,...]\n",
    "   # no multiindex\n",
    "    else:\n",
    "        df = df.copy()\n",
    "        df.columns = [norm(a) for a in df.columns]\n",
    "\n",
    "    return df.reset_index()\n"
   ],
   "id": "2b2bdcaadc0ff51b",
   "outputs": [],
   "execution_count": 53
  },
  {
   "metadata": {},
   "cell_type": "markdown",
   "source": [
    "iii. Now we need to create a function that goes throught the **euros_2024** data  which is raw data from the euros and get the players_info\n",
    "\n",
    "What am thinking is to store the data into a pd Dataframe after retrieval to represent the data a table for easier reading and structure."
   ],
   "id": "dfc9a3a8b5398410"
  },
  {
   "metadata": {},
   "cell_type": "markdown",
   "source": "# Helper functions",
   "id": "d13fac8297e5cee2"
  },
  {
   "metadata": {
    "ExecuteTime": {
     "end_time": "2025-10-09T09:36:14.408324Z",
     "start_time": "2025-10-09T09:36:14.403643Z"
    }
   },
   "cell_type": "code",
   "source": [
    "def _pick_player_pos(pos_raw: str) -> str:\n",
    "    \"\"\"\n",
    "    Picks primary pos for a player, if a player has more than one, the first one is picked\n",
    "    :param pos_raw: str\n",
    "    :return: string\n",
    "    \"\"\"\n",
    "    if not isinstance(pos_raw, str) or not pos_raw:\n",
    "        return pd.NA\n",
    "    return pos_raw.split(',')[0].strip()\n",
    "\n",
    "\n",
    "\n",
    "def _safe_div(numer, denom):\n",
    "    \"\"\"Elementwise safe division that returns NA when denom==0 or NA.\"\"\"\n",
    "    numer = pd.to_numeric(numer, errors=\"coerce\")\n",
    "    denom = pd.to_numeric(denom, errors=\"coerce\")\n",
    "    return numer.divide(denom).where(denom != 0)"
   ],
   "id": "36cbce7460e8704e",
   "outputs": [],
   "execution_count": 54
  },
  {
   "metadata": {},
   "cell_type": "markdown",
   "source": "## **Main Pipeline**",
   "id": "7bb5f116c944940d"
  },
  {
   "metadata": {
    "ExecuteTime": {
     "end_time": "2025-10-09T09:39:39.442698Z",
     "start_time": "2025-10-09T09:39:39.430382Z"
    }
   },
   "cell_type": "code",
   "source": [
    "def build_player_agg(year: str = \"2024\") -> pd.DataFrame:\n",
    "    \"\"\"\n",
    "    Build one-row-per-player aggregate for EURO {year}.\n",
    "    Saves raw -> staging -> processed parquet files.\n",
    "    \"\"\"\n",
    "    # 1) fetch raw standard table\n",
    "    fb = FBref(leagues=[\"INT-European Championship\"], seasons=[year])\n",
    "    season_stats = fb.read_player_season_stats(stat_type=\"standard\")\n",
    "\n",
    "    raw_path = OUT_RAW / f\"player_standard_euro_{year}.parquet\"\n",
    "    season_stats.to_pickle(raw_path.with_suffix(\".pkl\"))\n",
    "\n",
    "    # 2) flatten & stage\n",
    "    stats = _flatten_cols(season_stats)\n",
    "    stats_path = OUT_STAGING / f\"player_standard_euro_{year}.parquet\"\n",
    "    stats.to_parquet(stats_path, engine='fastparquet')\n",
    "\n",
    "    # 3) ensure all mapped columns exist\n",
    "    missing = [k for k in player_info.keys() if k not in stats.columns]\n",
    "    for m in missing:\n",
    "        stats[m] = pd.NA\n",
    "\n",
    "    # 4) rename to canonical schema\n",
    "    agg = stats[list(player_info.keys())].rename(columns=player_info).copy()\n",
    "    agg[\"tournament\"] = \"EURO\"\n",
    "\n",
    "    # 5) coerce types for numerics (prevents string math weirdness)\n",
    "    numeric_cols = [\n",
    "        \"age\",\"birth_year\",\"mp\",\"starts\",\"minutes\",\"nineties\",\n",
    "        \"gls\",\"ast\",\"ga\",\"g_pk\",\"xg\",\"xag\",\"xg_xag\",\"npxg\",\"npxg_xag\",\n",
    "        \"gls_90\",\"ast_90\",\"ga_90\",\"g_pk_90\",\n",
    "    ]\n",
    "    for c in numeric_cols:\n",
    "        if c in agg.columns:\n",
    "            agg[c] = pd.to_numeric(agg[c], errors=\"coerce\")\n",
    "\n",
    "    # tournament year as int for clean grouping\n",
    "    agg[\"tournament_year\"] = pd.to_numeric(agg[\"tournament_year\"], errors=\"coerce\").astype(\"Int64\")\n",
    "\n",
    "    # 6) derivatives\n",
    "    agg[\"primary_pos\"] = agg[\"pos_raw\"].apply(_pick_player_pos)\n",
    "\n",
    "    n90 = agg[\"nineties\"]\n",
    "    for src, dst in [\n",
    "        (\"xg\", \"xg_90\"), (\"xag\", \"xag_90\"), (\"xg_xag\", \"xg_xag_90\"),\n",
    "        (\"npxg\", \"npxg_90\"), (\"npxg_xag\", \"npxg_xag_90\"),\n",
    "    ]:\n",
    "        if dst not in agg.columns:\n",
    "            agg[dst] = _safe_div(agg[src], n90)\n",
    "\n",
    "    # usage\n",
    "    team_minutes = agg.groupby([\"team_name\", \"tournament_year\"])[\"minutes\"].transform(\"sum\")\n",
    "    agg[\"minutes_share\"] = _safe_div(agg[\"minutes\"], team_minutes)\n",
    "    agg[\"starter_rate\"] = _safe_div(agg[\"starts\"], agg[\"mp\"])\n",
    "\n",
    "    # 7) QA guards\n",
    "    agg = agg[agg[\"league\"].eq(\"INT-European Championship\")]\n",
    "    agg = agg.drop_duplicates(subset=[\"player_name\", \"player_country\", \"tournament_year\"])\n",
    "\n",
    "    agg[\"minutes\"] = agg[\"minutes\"].clip(lower=0, upper=720)\n",
    "    agg[\"minutes_share\"] = agg[\"minutes_share\"].clip(lower=0, upper=1.25)\n",
    "\n",
    "    # 8) final column order\n",
    "    cols = [\n",
    "        \"player_name\",\"player_country\",\"team_name\",\"tournament\",\"tournament_year\",\n",
    "        \"age\",\"birth_year\",\"pos_raw\",\"primary_pos\",\n",
    "        \"mp\",\"starts\",\"minutes\",\"nineties\",\"minutes_share\",\"starter_rate\",\n",
    "        \"gls\",\"ast\",\"ga\",\"xg\",\"xag\",\"xg_xag\",\"npxg\",\"npxg_xag\",\n",
    "        \"gls_90\",\"ast_90\",\"ga_90\",\"xg_90\",\"xag_90\",\"xg_xag_90\",\"npxg_90\",\"npxg_xag_90\",\n",
    "    ]\n",
    "    for c in cols:\n",
    "        if c not in agg.columns:\n",
    "            agg[c] = pd.NA\n",
    "    agg = agg[cols]\n",
    "\n",
    "    # 9) save processed\n",
    "    out_path = OUT_PROCESSED / f\"player_agg_euro_{year}.parquet\"\n",
    "    agg.to_parquet(out_path, engine='fastparquet')\n",
    "\n",
    "    # tiny sanity prints (optional)\n",
    "    print(f\"Saved raw      → {raw_path}\")\n",
    "    print(f\"Saved staging  → {stats_path}\")\n",
    "    print(f\"Saved processed→ {out_path} ({len(agg)} rows, {len(agg.columns)} cols)\")\n",
    "    return agg"
   ],
   "id": "d3dad14bbb02c407",
   "outputs": [],
   "execution_count": 59
  },
  {
   "metadata": {},
   "cell_type": "markdown",
   "source": "# Run the file",
   "id": "260ff0eb75174202"
  },
  {
   "metadata": {
    "ExecuteTime": {
     "end_time": "2025-10-09T09:39:41.932769Z",
     "start_time": "2025-10-09T09:39:41.688127Z"
    }
   },
   "cell_type": "code",
   "source": "build_player_agg()",
   "id": "6f253c7ec8a5377a",
   "outputs": [
    {
     "data": {
      "text/plain": [
       "\u001B[2;36m[10/09/25 12:39:41]\u001B[0m\u001B[2;36m \u001B[0m\u001B[34mINFO    \u001B[0m Saving cached data to \u001B[35m/Users/derrick/soccerdata/data/\u001B[0m\u001B[95mFBref\u001B[0m              \u001B]8;id=129308;file:///Users/derrick/DataspellProjects/epl/epl-predictor/backend/epl/lib/python3.11/site-packages/soccerdata/_common.py\u001B\\\u001B[2m_common.py\u001B[0m\u001B]8;;\u001B\\\u001B[2m:\u001B[0m\u001B]8;id=79977;file:///Users/derrick/DataspellProjects/epl/epl-predictor/backend/epl/lib/python3.11/site-packages/soccerdata/_common.py#263\u001B\\\u001B[2m263\u001B[0m\u001B]8;;\u001B\\\n"
      ],
      "text/html": [
       "<pre style=\"white-space:pre;overflow-x:auto;line-height:normal;font-family:Menlo,'DejaVu Sans Mono',consolas,'Courier New',monospace\"><span style=\"color: #7fbfbf; text-decoration-color: #7fbfbf\">[10/09/25 12:39:41] </span><span style=\"color: #000080; text-decoration-color: #000080\">INFO    </span> Saving cached data to <span style=\"color: #800080; text-decoration-color: #800080\">/Users/derrick/soccerdata/data/</span><span style=\"color: #ff00ff; text-decoration-color: #ff00ff\">FBref</span>              <a href=\"file:///Users/derrick/DataspellProjects/epl/epl-predictor/backend/epl/lib/python3.11/site-packages/soccerdata/_common.py\" target=\"_blank\"><span style=\"color: #7f7f7f; text-decoration-color: #7f7f7f\">_common.py</span></a><span style=\"color: #7f7f7f; text-decoration-color: #7f7f7f\">:</span><a href=\"file:///Users/derrick/DataspellProjects/epl/epl-predictor/backend/epl/lib/python3.11/site-packages/soccerdata/_common.py#263\" target=\"_blank\"><span style=\"color: #7f7f7f; text-decoration-color: #7f7f7f\">263</span></a>\n",
       "</pre>\n"
      ]
     },
     "metadata": {},
     "output_type": "display_data"
    },
    {
     "data": {
      "text/plain": [
       "\u001B[2;36m                   \u001B[0m\u001B[2;36m \u001B[0m\u001B[33mWARNING \u001B[0m \u001B[35m/Users/derrick/DataspellProjects/epl/epl-predictor/backend/epl/lib/pyt\u001B[0m \u001B]8;id=751653;file:///Library/Frameworks/Python.framework/Versions/3.11/lib/python3.11/warnings.py\u001B\\\u001B[2mwarnings.py\u001B[0m\u001B]8;;\u001B\\\u001B[2m:\u001B[0m\u001B]8;id=43181;file:///Library/Frameworks/Python.framework/Versions/3.11/lib/python3.11/warnings.py#110\u001B\\\u001B[2m110\u001B[0m\u001B]8;;\u001B\\\n",
       "\u001B[2;36m                    \u001B[0m         \u001B[35mhon3.11/site-packages/soccerdata/\u001B[0m\u001B[95mfbref.py\u001B[0m:\u001B[1;36m165\u001B[0m: FutureWarning: The      \u001B[2m               \u001B[0m\n",
       "\u001B[2;36m                    \u001B[0m         behavior of DataFrame concatenation with empty or all-NA entries is    \u001B[2m               \u001B[0m\n",
       "\u001B[2;36m                    \u001B[0m         deprecated. In a future version, this will no longer exclude empty or  \u001B[2m               \u001B[0m\n",
       "\u001B[2;36m                    \u001B[0m         all-NA columns when determining the result dtypes. To retain the old   \u001B[2m               \u001B[0m\n",
       "\u001B[2;36m                    \u001B[0m         behavior, exclude the relevant entries before the concat operation.    \u001B[2m               \u001B[0m\n",
       "\u001B[2;36m                    \u001B[0m           \u001B[1;35mpd.concat\u001B[0m\u001B[1m(\u001B[0mdfs\u001B[1m)\u001B[0m                                                       \u001B[2m               \u001B[0m\n",
       "\u001B[2;36m                    \u001B[0m                                                                                \u001B[2m               \u001B[0m\n"
      ],
      "text/html": [
       "<pre style=\"white-space:pre;overflow-x:auto;line-height:normal;font-family:Menlo,'DejaVu Sans Mono',consolas,'Courier New',monospace\"><span style=\"color: #7fbfbf; text-decoration-color: #7fbfbf\">                    </span><span style=\"color: #808000; text-decoration-color: #808000\">WARNING </span> <span style=\"color: #800080; text-decoration-color: #800080\">/Users/derrick/DataspellProjects/epl/epl-predictor/backend/epl/lib/pyt</span> <a href=\"file:///Library/Frameworks/Python.framework/Versions/3.11/lib/python3.11/warnings.py\" target=\"_blank\"><span style=\"color: #7f7f7f; text-decoration-color: #7f7f7f\">warnings.py</span></a><span style=\"color: #7f7f7f; text-decoration-color: #7f7f7f\">:</span><a href=\"file:///Library/Frameworks/Python.framework/Versions/3.11/lib/python3.11/warnings.py#110\" target=\"_blank\"><span style=\"color: #7f7f7f; text-decoration-color: #7f7f7f\">110</span></a>\n",
       "<span style=\"color: #7fbfbf; text-decoration-color: #7fbfbf\">                    </span>         <span style=\"color: #800080; text-decoration-color: #800080\">hon3.11/site-packages/soccerdata/</span><span style=\"color: #ff00ff; text-decoration-color: #ff00ff\">fbref.py</span>:<span style=\"color: #008080; text-decoration-color: #008080; font-weight: bold\">165</span>: FutureWarning: The      <span style=\"color: #7f7f7f; text-decoration-color: #7f7f7f\">               </span>\n",
       "<span style=\"color: #7fbfbf; text-decoration-color: #7fbfbf\">                    </span>         behavior of DataFrame concatenation with empty or all-NA entries is    <span style=\"color: #7f7f7f; text-decoration-color: #7f7f7f\">               </span>\n",
       "<span style=\"color: #7fbfbf; text-decoration-color: #7fbfbf\">                    </span>         deprecated. In a future version, this will no longer exclude empty or  <span style=\"color: #7f7f7f; text-decoration-color: #7f7f7f\">               </span>\n",
       "<span style=\"color: #7fbfbf; text-decoration-color: #7fbfbf\">                    </span>         all-NA columns when determining the result dtypes. To retain the old   <span style=\"color: #7f7f7f; text-decoration-color: #7f7f7f\">               </span>\n",
       "<span style=\"color: #7fbfbf; text-decoration-color: #7fbfbf\">                    </span>         behavior, exclude the relevant entries before the concat operation.    <span style=\"color: #7f7f7f; text-decoration-color: #7f7f7f\">               </span>\n",
       "<span style=\"color: #7fbfbf; text-decoration-color: #7fbfbf\">                    </span>           <span style=\"color: #800080; text-decoration-color: #800080; font-weight: bold\">pd.concat</span><span style=\"font-weight: bold\">(</span>dfs<span style=\"font-weight: bold\">)</span>                                                       <span style=\"color: #7f7f7f; text-decoration-color: #7f7f7f\">               </span>\n",
       "<span style=\"color: #7fbfbf; text-decoration-color: #7fbfbf\">                    </span>                                                                                <span style=\"color: #7f7f7f; text-decoration-color: #7f7f7f\">               </span>\n",
       "</pre>\n"
      ]
     },
     "metadata": {},
     "output_type": "display_data"
    },
    {
     "name": "stdout",
     "output_type": "stream",
     "text": [
      "Saved raw      → /Users/derrick/DataspellProjects/epl/epl-predictor/backend/data/tournaments/outputs/raw/player_standard_euro_2024.parquet\n",
      "Saved staging  → /Users/derrick/DataspellProjects/epl/epl-predictor/backend/data/tournaments/outputs/staging/player_standard_euro_2024.parquet\n",
      "Saved processed→ /Users/derrick/DataspellProjects/epl/epl-predictor/backend/data/tournaments/outputs/processed/player_agg_euro_2024.parquet (493 rows, 31 cols)\n"
     ]
    },
    {
     "data": {
      "text/plain": [
       "           player_name player_country team_name tournament  tournament_year  \\\n",
       "0          Arbër Hoxha        Albania   Albania       EURO             2024   \n",
       "1         Arlind Ajeti        Albania   Albania       EURO             2024   \n",
       "2        Armando Broja        Albania   Albania       EURO             2024   \n",
       "3       Berat Djimsiti        Albania   Albania       EURO             2024   \n",
       "4         Elseid Hysaj        Albania   Albania       EURO             2024   \n",
       "..                 ...            ...       ...        ...              ...   \n",
       "488   Viktor Tsyhankov        Ukraine   Ukraine       EURO             2024   \n",
       "489  Vitaliy Mykolenko        Ukraine   Ukraine       EURO             2024   \n",
       "490    Vladyslav Vanat        Ukraine   Ukraine       EURO             2024   \n",
       "491  Volodymyr Brazhko        Ukraine   Ukraine       EURO             2024   \n",
       "492    Yukhym Konoplia        Ukraine   Ukraine       EURO             2024   \n",
       "\n",
       "     age  birth_year pos_raw primary_pos  mp  ...  npxg  npxg_xag  gls_90  \\\n",
       "0     25        1998   FW,MF          FW   3  ...   0.1       0.1     0.0   \n",
       "1     30        1993      DF          DF   3  ...   0.0       0.0     0.0   \n",
       "2     22        2001      FW          FW   2  ...   0.2       0.3     0.0   \n",
       "3     30        1993      DF          DF   3  ...   0.1       0.1     0.0   \n",
       "4     29        1994      DF          DF   2  ...   0.1       0.2     0.0   \n",
       "..   ...         ...     ...         ...  ..  ...   ...       ...     ...   \n",
       "488   26        1997      FW          FW   1  ...   0.1       0.1     0.0   \n",
       "489   24        1999      DF          DF   1  ...   0.0       0.1     0.0   \n",
       "490   22        2002      FW          FW   1  ...   0.0       0.0     0.0   \n",
       "491   22        2002      MF          MF   3  ...   0.0       0.1     0.0   \n",
       "492   24        1999      DF          DF   1  ...   0.0       0.0     0.0   \n",
       "\n",
       "     ast_90  ga_90     xg_90    xag_90  xg_xag_90   npxg_90  npxg_xag_90  \n",
       "0       0.0    NaN  0.166667       0.0       <NA>  0.166667     0.166667  \n",
       "1       0.0    NaN       0.0       0.0       <NA>       0.0          0.0  \n",
       "2       0.0    NaN  0.166667  0.083333       <NA>  0.166667         0.25  \n",
       "3       0.0    NaN  0.033333       0.0       <NA>  0.033333     0.033333  \n",
       "4       0.0    NaN      0.05      0.05       <NA>      0.05          0.1  \n",
       "..      ...    ...       ...       ...        ...       ...          ...  \n",
       "488     0.0    NaN  0.142857       0.0       <NA>  0.142857     0.142857  \n",
       "489     0.0    NaN       0.0  0.166667       <NA>       0.0     0.166667  \n",
       "490     0.0    NaN       0.0       0.0       <NA>       0.0          0.0  \n",
       "491     0.0    NaN       0.0       0.0       <NA>       0.0         0.05  \n",
       "492     0.0    NaN       0.0       0.0       <NA>       0.0          0.0  \n",
       "\n",
       "[493 rows x 31 columns]"
      ],
      "text/html": [
       "<div>\n",
       "<style scoped>\n",
       "    .dataframe tbody tr th:only-of-type {\n",
       "        vertical-align: middle;\n",
       "    }\n",
       "\n",
       "    .dataframe tbody tr th {\n",
       "        vertical-align: top;\n",
       "    }\n",
       "\n",
       "    .dataframe thead th {\n",
       "        text-align: right;\n",
       "    }\n",
       "</style>\n",
       "<table border=\"1\" class=\"dataframe\">\n",
       "  <thead>\n",
       "    <tr style=\"text-align: right;\">\n",
       "      <th></th>\n",
       "      <th>player_name</th>\n",
       "      <th>player_country</th>\n",
       "      <th>team_name</th>\n",
       "      <th>tournament</th>\n",
       "      <th>tournament_year</th>\n",
       "      <th>age</th>\n",
       "      <th>birth_year</th>\n",
       "      <th>pos_raw</th>\n",
       "      <th>primary_pos</th>\n",
       "      <th>mp</th>\n",
       "      <th>...</th>\n",
       "      <th>npxg</th>\n",
       "      <th>npxg_xag</th>\n",
       "      <th>gls_90</th>\n",
       "      <th>ast_90</th>\n",
       "      <th>ga_90</th>\n",
       "      <th>xg_90</th>\n",
       "      <th>xag_90</th>\n",
       "      <th>xg_xag_90</th>\n",
       "      <th>npxg_90</th>\n",
       "      <th>npxg_xag_90</th>\n",
       "    </tr>\n",
       "  </thead>\n",
       "  <tbody>\n",
       "    <tr>\n",
       "      <th>0</th>\n",
       "      <td>Arbër Hoxha</td>\n",
       "      <td>Albania</td>\n",
       "      <td>Albania</td>\n",
       "      <td>EURO</td>\n",
       "      <td>2024</td>\n",
       "      <td>25</td>\n",
       "      <td>1998</td>\n",
       "      <td>FW,MF</td>\n",
       "      <td>FW</td>\n",
       "      <td>3</td>\n",
       "      <td>...</td>\n",
       "      <td>0.1</td>\n",
       "      <td>0.1</td>\n",
       "      <td>0.0</td>\n",
       "      <td>0.0</td>\n",
       "      <td>NaN</td>\n",
       "      <td>0.166667</td>\n",
       "      <td>0.0</td>\n",
       "      <td>&lt;NA&gt;</td>\n",
       "      <td>0.166667</td>\n",
       "      <td>0.166667</td>\n",
       "    </tr>\n",
       "    <tr>\n",
       "      <th>1</th>\n",
       "      <td>Arlind Ajeti</td>\n",
       "      <td>Albania</td>\n",
       "      <td>Albania</td>\n",
       "      <td>EURO</td>\n",
       "      <td>2024</td>\n",
       "      <td>30</td>\n",
       "      <td>1993</td>\n",
       "      <td>DF</td>\n",
       "      <td>DF</td>\n",
       "      <td>3</td>\n",
       "      <td>...</td>\n",
       "      <td>0.0</td>\n",
       "      <td>0.0</td>\n",
       "      <td>0.0</td>\n",
       "      <td>0.0</td>\n",
       "      <td>NaN</td>\n",
       "      <td>0.0</td>\n",
       "      <td>0.0</td>\n",
       "      <td>&lt;NA&gt;</td>\n",
       "      <td>0.0</td>\n",
       "      <td>0.0</td>\n",
       "    </tr>\n",
       "    <tr>\n",
       "      <th>2</th>\n",
       "      <td>Armando Broja</td>\n",
       "      <td>Albania</td>\n",
       "      <td>Albania</td>\n",
       "      <td>EURO</td>\n",
       "      <td>2024</td>\n",
       "      <td>22</td>\n",
       "      <td>2001</td>\n",
       "      <td>FW</td>\n",
       "      <td>FW</td>\n",
       "      <td>2</td>\n",
       "      <td>...</td>\n",
       "      <td>0.2</td>\n",
       "      <td>0.3</td>\n",
       "      <td>0.0</td>\n",
       "      <td>0.0</td>\n",
       "      <td>NaN</td>\n",
       "      <td>0.166667</td>\n",
       "      <td>0.083333</td>\n",
       "      <td>&lt;NA&gt;</td>\n",
       "      <td>0.166667</td>\n",
       "      <td>0.25</td>\n",
       "    </tr>\n",
       "    <tr>\n",
       "      <th>3</th>\n",
       "      <td>Berat Djimsiti</td>\n",
       "      <td>Albania</td>\n",
       "      <td>Albania</td>\n",
       "      <td>EURO</td>\n",
       "      <td>2024</td>\n",
       "      <td>30</td>\n",
       "      <td>1993</td>\n",
       "      <td>DF</td>\n",
       "      <td>DF</td>\n",
       "      <td>3</td>\n",
       "      <td>...</td>\n",
       "      <td>0.1</td>\n",
       "      <td>0.1</td>\n",
       "      <td>0.0</td>\n",
       "      <td>0.0</td>\n",
       "      <td>NaN</td>\n",
       "      <td>0.033333</td>\n",
       "      <td>0.0</td>\n",
       "      <td>&lt;NA&gt;</td>\n",
       "      <td>0.033333</td>\n",
       "      <td>0.033333</td>\n",
       "    </tr>\n",
       "    <tr>\n",
       "      <th>4</th>\n",
       "      <td>Elseid Hysaj</td>\n",
       "      <td>Albania</td>\n",
       "      <td>Albania</td>\n",
       "      <td>EURO</td>\n",
       "      <td>2024</td>\n",
       "      <td>29</td>\n",
       "      <td>1994</td>\n",
       "      <td>DF</td>\n",
       "      <td>DF</td>\n",
       "      <td>2</td>\n",
       "      <td>...</td>\n",
       "      <td>0.1</td>\n",
       "      <td>0.2</td>\n",
       "      <td>0.0</td>\n",
       "      <td>0.0</td>\n",
       "      <td>NaN</td>\n",
       "      <td>0.05</td>\n",
       "      <td>0.05</td>\n",
       "      <td>&lt;NA&gt;</td>\n",
       "      <td>0.05</td>\n",
       "      <td>0.1</td>\n",
       "    </tr>\n",
       "    <tr>\n",
       "      <th>...</th>\n",
       "      <td>...</td>\n",
       "      <td>...</td>\n",
       "      <td>...</td>\n",
       "      <td>...</td>\n",
       "      <td>...</td>\n",
       "      <td>...</td>\n",
       "      <td>...</td>\n",
       "      <td>...</td>\n",
       "      <td>...</td>\n",
       "      <td>...</td>\n",
       "      <td>...</td>\n",
       "      <td>...</td>\n",
       "      <td>...</td>\n",
       "      <td>...</td>\n",
       "      <td>...</td>\n",
       "      <td>...</td>\n",
       "      <td>...</td>\n",
       "      <td>...</td>\n",
       "      <td>...</td>\n",
       "      <td>...</td>\n",
       "      <td>...</td>\n",
       "    </tr>\n",
       "    <tr>\n",
       "      <th>488</th>\n",
       "      <td>Viktor Tsyhankov</td>\n",
       "      <td>Ukraine</td>\n",
       "      <td>Ukraine</td>\n",
       "      <td>EURO</td>\n",
       "      <td>2024</td>\n",
       "      <td>26</td>\n",
       "      <td>1997</td>\n",
       "      <td>FW</td>\n",
       "      <td>FW</td>\n",
       "      <td>1</td>\n",
       "      <td>...</td>\n",
       "      <td>0.1</td>\n",
       "      <td>0.1</td>\n",
       "      <td>0.0</td>\n",
       "      <td>0.0</td>\n",
       "      <td>NaN</td>\n",
       "      <td>0.142857</td>\n",
       "      <td>0.0</td>\n",
       "      <td>&lt;NA&gt;</td>\n",
       "      <td>0.142857</td>\n",
       "      <td>0.142857</td>\n",
       "    </tr>\n",
       "    <tr>\n",
       "      <th>489</th>\n",
       "      <td>Vitaliy Mykolenko</td>\n",
       "      <td>Ukraine</td>\n",
       "      <td>Ukraine</td>\n",
       "      <td>EURO</td>\n",
       "      <td>2024</td>\n",
       "      <td>24</td>\n",
       "      <td>1999</td>\n",
       "      <td>DF</td>\n",
       "      <td>DF</td>\n",
       "      <td>1</td>\n",
       "      <td>...</td>\n",
       "      <td>0.0</td>\n",
       "      <td>0.1</td>\n",
       "      <td>0.0</td>\n",
       "      <td>0.0</td>\n",
       "      <td>NaN</td>\n",
       "      <td>0.0</td>\n",
       "      <td>0.166667</td>\n",
       "      <td>&lt;NA&gt;</td>\n",
       "      <td>0.0</td>\n",
       "      <td>0.166667</td>\n",
       "    </tr>\n",
       "    <tr>\n",
       "      <th>490</th>\n",
       "      <td>Vladyslav Vanat</td>\n",
       "      <td>Ukraine</td>\n",
       "      <td>Ukraine</td>\n",
       "      <td>EURO</td>\n",
       "      <td>2024</td>\n",
       "      <td>22</td>\n",
       "      <td>2002</td>\n",
       "      <td>FW</td>\n",
       "      <td>FW</td>\n",
       "      <td>1</td>\n",
       "      <td>...</td>\n",
       "      <td>0.0</td>\n",
       "      <td>0.0</td>\n",
       "      <td>0.0</td>\n",
       "      <td>0.0</td>\n",
       "      <td>NaN</td>\n",
       "      <td>0.0</td>\n",
       "      <td>0.0</td>\n",
       "      <td>&lt;NA&gt;</td>\n",
       "      <td>0.0</td>\n",
       "      <td>0.0</td>\n",
       "    </tr>\n",
       "    <tr>\n",
       "      <th>491</th>\n",
       "      <td>Volodymyr Brazhko</td>\n",
       "      <td>Ukraine</td>\n",
       "      <td>Ukraine</td>\n",
       "      <td>EURO</td>\n",
       "      <td>2024</td>\n",
       "      <td>22</td>\n",
       "      <td>2002</td>\n",
       "      <td>MF</td>\n",
       "      <td>MF</td>\n",
       "      <td>3</td>\n",
       "      <td>...</td>\n",
       "      <td>0.0</td>\n",
       "      <td>0.1</td>\n",
       "      <td>0.0</td>\n",
       "      <td>0.0</td>\n",
       "      <td>NaN</td>\n",
       "      <td>0.0</td>\n",
       "      <td>0.0</td>\n",
       "      <td>&lt;NA&gt;</td>\n",
       "      <td>0.0</td>\n",
       "      <td>0.05</td>\n",
       "    </tr>\n",
       "    <tr>\n",
       "      <th>492</th>\n",
       "      <td>Yukhym Konoplia</td>\n",
       "      <td>Ukraine</td>\n",
       "      <td>Ukraine</td>\n",
       "      <td>EURO</td>\n",
       "      <td>2024</td>\n",
       "      <td>24</td>\n",
       "      <td>1999</td>\n",
       "      <td>DF</td>\n",
       "      <td>DF</td>\n",
       "      <td>1</td>\n",
       "      <td>...</td>\n",
       "      <td>0.0</td>\n",
       "      <td>0.0</td>\n",
       "      <td>0.0</td>\n",
       "      <td>0.0</td>\n",
       "      <td>NaN</td>\n",
       "      <td>0.0</td>\n",
       "      <td>0.0</td>\n",
       "      <td>&lt;NA&gt;</td>\n",
       "      <td>0.0</td>\n",
       "      <td>0.0</td>\n",
       "    </tr>\n",
       "  </tbody>\n",
       "</table>\n",
       "<p>493 rows × 31 columns</p>\n",
       "</div>"
      ]
     },
     "execution_count": 60,
     "metadata": {},
     "output_type": "execute_result"
    }
   ],
   "execution_count": 60
  }
 ],
 "metadata": {
  "kernelspec": {
   "display_name": "Python 3",
   "language": "python",
   "name": "python3"
  },
  "language_info": {
   "codemirror_mode": {
    "name": "ipython",
    "version": 2
   },
   "file_extension": ".py",
   "mimetype": "text/x-python",
   "name": "python",
   "nbconvert_exporter": "python",
   "pygments_lexer": "ipython2",
   "version": "2.7.6"
  }
 },
 "nbformat": 4,
 "nbformat_minor": 5
}
