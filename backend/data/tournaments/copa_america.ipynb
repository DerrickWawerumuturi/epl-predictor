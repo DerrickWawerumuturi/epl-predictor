{
 "cells": [
  {
   "metadata": {},
   "cell_type": "markdown",
   "source": "# **Copa America 2024**",
   "id": "b00df6834421ea3e"
  },
  {
   "metadata": {},
   "cell_type": "markdown",
   "source": "# Step 1: Imports",
   "id": "a96dfb19f5adda45"
  },
  {
   "metadata": {
    "ExecuteTime": {
     "end_time": "2025-10-09T11:18:13.055509Z",
     "start_time": "2025-10-09T11:18:10.732183Z"
    }
   },
   "cell_type": "code",
   "source": "!pip install kagglehub",
   "id": "eabcf91196fa6881",
   "outputs": [
    {
     "name": "stdout",
     "output_type": "stream",
     "text": [
      "Collecting kagglehub\r\n",
      "  Downloading kagglehub-0.3.13-py3-none-any.whl.metadata (38 kB)\r\n",
      "Requirement already satisfied: packaging in /Users/derrick/DataspellProjects/epl/epl-predictor/backend/epl/lib/python3.11/site-packages (from kagglehub) (24.2)\r\n",
      "Requirement already satisfied: pyyaml in /Users/derrick/DataspellProjects/epl/epl-predictor/backend/epl/lib/python3.11/site-packages (from kagglehub) (6.0.3)\r\n",
      "Requirement already satisfied: requests in /Users/derrick/DataspellProjects/epl/epl-predictor/backend/epl/lib/python3.11/site-packages (from kagglehub) (2.32.5)\r\n",
      "Requirement already satisfied: tqdm in /Users/derrick/DataspellProjects/epl/epl-predictor/backend/epl/lib/python3.11/site-packages (from kagglehub) (4.67.1)\r\n",
      "Requirement already satisfied: charset_normalizer<4,>=2 in /Users/derrick/DataspellProjects/epl/epl-predictor/backend/epl/lib/python3.11/site-packages (from requests->kagglehub) (3.4.3)\r\n",
      "Requirement already satisfied: idna<4,>=2.5 in /Users/derrick/DataspellProjects/epl/epl-predictor/backend/epl/lib/python3.11/site-packages (from requests->kagglehub) (3.10)\r\n",
      "Requirement already satisfied: urllib3<3,>=1.21.1 in /Users/derrick/DataspellProjects/epl/epl-predictor/backend/epl/lib/python3.11/site-packages (from requests->kagglehub) (2.5.0)\r\n",
      "Requirement already satisfied: certifi>=2017.4.17 in /Users/derrick/DataspellProjects/epl/epl-predictor/backend/epl/lib/python3.11/site-packages (from requests->kagglehub) (2025.10.5)\r\n",
      "Downloading kagglehub-0.3.13-py3-none-any.whl (68 kB)\r\n",
      "\u001B[2K   \u001B[90m━━━━━━━━━━━━━━━━━━━━━━━━━━━━━━━━━━━━━━━━\u001B[0m \u001B[32m68.3/68.3 kB\u001B[0m \u001B[31m1.0 MB/s\u001B[0m eta \u001B[36m0:00:00\u001B[0ma \u001B[36m0:00:01\u001B[0m\r\n",
      "\u001B[?25hInstalling collected packages: kagglehub\r\n",
      "Successfully installed kagglehub-0.3.13\r\n",
      "\r\n",
      "\u001B[1m[\u001B[0m\u001B[34;49mnotice\u001B[0m\u001B[1;39;49m]\u001B[0m\u001B[39;49m A new release of pip is available: \u001B[0m\u001B[31;49m24.0\u001B[0m\u001B[39;49m -> \u001B[0m\u001B[32;49m25.2\u001B[0m\r\n",
      "\u001B[1m[\u001B[0m\u001B[34;49mnotice\u001B[0m\u001B[1;39;49m]\u001B[0m\u001B[39;49m To update, run: \u001B[0m\u001B[32;49mpip install --upgrade pip\u001B[0m\r\n"
     ]
    }
   ],
   "execution_count": 14
  },
  {
   "metadata": {
    "ExecuteTime": {
     "end_time": "2025-10-09T11:18:19.086430Z",
     "start_time": "2025-10-09T11:18:16.932196Z"
    }
   },
   "cell_type": "code",
   "source": "",
   "id": "ec471dca17ed8465",
   "outputs": [
    {
     "name": "stdout",
     "output_type": "stream",
     "text": [
      "Downloading from https://www.kaggle.com/api/v1/datasets/download/thamersekhri/copa-america-2024-matches-stats?dataset_version_number=1...\n"
     ]
    },
    {
     "name": "stderr",
     "output_type": "stream",
     "text": [
      "100%|██████████████████████████████████████████████████████████████████████████████████████████████████████████████████████████████████████| 4.93k/4.93k [00:00<00:00, 1.81MB/s]"
     ]
    },
    {
     "name": "stdout",
     "output_type": "stream",
     "text": [
      "Extracting files...\n",
      "Path to dataset files: /Users/derrick/.cache/kagglehub/datasets/thamersekhri/copa-america-2024-matches-stats/versions/1\n"
     ]
    },
    {
     "name": "stderr",
     "output_type": "stream",
     "text": [
      "\n"
     ]
    }
   ],
   "execution_count": 15
  },
  {
   "cell_type": "code",
   "id": "initial_id",
   "metadata": {
    "collapsed": true,
    "ExecuteTime": {
     "end_time": "2025-10-09T11:41:10.086234Z",
     "start_time": "2025-10-09T11:41:10.077171Z"
    }
   },
   "source": [
    "from soccerdata import FBref\n",
    "from pathlib import Path\n",
    "import kagglehub\n",
    "import pandas as pd\n",
    "from typing import Dict\n",
    "import os\n",
    "from euros import _flatten_cols, _safe_div, _pick_player_pos, player_info\n"
   ],
   "outputs": [],
   "execution_count": 19
  },
  {
   "metadata": {
    "ExecuteTime": {
     "end_time": "2025-10-09T11:53:21.873109Z",
     "start_time": "2025-10-09T11:53:20.162582Z"
    }
   },
   "cell_type": "code",
   "source": [
    "\n",
    "path = kagglehub.dataset_download(\"thamersekhri/copa-america-2024-matches-stats\")\n",
    "\n",
    "path = Path(path)\n",
    "\n",
    "file_path = path / \"Copa_2024_Matches.csv\"\n",
    "\n",
    "copa_raw = pd.read_csv(file_path)\n",
    "\n",
    "copa_raw.head()\n"
   ],
   "id": "22e404bd18081812",
   "outputs": [
    {
     "data": {
      "text/plain": [
       "                stadium attendance  home_team  away_team  home_goals  \\\n",
       "0  MercedesBenz Stadium     70,564  Argentina     Canada           2   \n",
       "1           ATT Stadium     43,030       Peru      Chile           0   \n",
       "2         Levis Stadium     29,864    Ecuador  Venezuela           1   \n",
       "3           NRG Stadium     53,763     Mexico    Jamaica           1   \n",
       "4           ATT Stadium     47,873        USA    Bolivia           2   \n",
       "\n",
       "   away_goals  Home Expected goals(xG)  Home Total shots  \\\n",
       "0           0                     3.02                19   \n",
       "1           0                     0.75                 7   \n",
       "2           2                     0.86                 9   \n",
       "3           0                     0.97                20   \n",
       "4           0                     2.51                20   \n",
       "\n",
       "   Home Shots on target  Home Big chances  ...  Away Red cards  \\\n",
       "0                     9                 9  ...               0   \n",
       "1                     4                 1  ...               0   \n",
       "2                     4                 2  ...               0   \n",
       "3                     9                 1  ...               0   \n",
       "4                     8                 3  ...               0   \n",
       "\n",
       "  Away Tackles won  Away Interceptions  Away Blocks  Away Clearances  \\\n",
       "0          16(55%)                   7            4               18   \n",
       "1          15(79%)                   8            1               10   \n",
       "2          10(67%)                   5            1               19   \n",
       "3          13(68%)                  10            5               35   \n",
       "4           6(43%)                  16            5               28   \n",
       "\n",
       "   Away Keeper saves  Away Duels won  Away Ground duels won  \\\n",
       "0                  6              50                46(58%)   \n",
       "1                  4              67                40(45%)   \n",
       "2                  4              71                43(52%)   \n",
       "3                  8              61                37(54%)   \n",
       "4                  6              40                29(40%)   \n",
       "\n",
       "   Away Aerial duels won  Away Successful dribbles  \n",
       "0                 4(40%)                    5(45%)  \n",
       "1                27(56%)                    5(28%)  \n",
       "2                28(62%)                    9(60%)  \n",
       "3                24(52%)                   10(67%)  \n",
       "4                11(50%)                    7(50%)  \n",
       "\n",
       "[5 rows x 86 columns]"
      ],
      "text/html": [
       "<div>\n",
       "<style scoped>\n",
       "    .dataframe tbody tr th:only-of-type {\n",
       "        vertical-align: middle;\n",
       "    }\n",
       "\n",
       "    .dataframe tbody tr th {\n",
       "        vertical-align: top;\n",
       "    }\n",
       "\n",
       "    .dataframe thead th {\n",
       "        text-align: right;\n",
       "    }\n",
       "</style>\n",
       "<table border=\"1\" class=\"dataframe\">\n",
       "  <thead>\n",
       "    <tr style=\"text-align: right;\">\n",
       "      <th></th>\n",
       "      <th>stadium</th>\n",
       "      <th>attendance</th>\n",
       "      <th>home_team</th>\n",
       "      <th>away_team</th>\n",
       "      <th>home_goals</th>\n",
       "      <th>away_goals</th>\n",
       "      <th>Home Expected goals(xG)</th>\n",
       "      <th>Home Total shots</th>\n",
       "      <th>Home Shots on target</th>\n",
       "      <th>Home Big chances</th>\n",
       "      <th>...</th>\n",
       "      <th>Away Red cards</th>\n",
       "      <th>Away Tackles won</th>\n",
       "      <th>Away Interceptions</th>\n",
       "      <th>Away Blocks</th>\n",
       "      <th>Away Clearances</th>\n",
       "      <th>Away Keeper saves</th>\n",
       "      <th>Away Duels won</th>\n",
       "      <th>Away Ground duels won</th>\n",
       "      <th>Away Aerial duels won</th>\n",
       "      <th>Away Successful dribbles</th>\n",
       "    </tr>\n",
       "  </thead>\n",
       "  <tbody>\n",
       "    <tr>\n",
       "      <th>0</th>\n",
       "      <td>MercedesBenz Stadium</td>\n",
       "      <td>70,564</td>\n",
       "      <td>Argentina</td>\n",
       "      <td>Canada</td>\n",
       "      <td>2</td>\n",
       "      <td>0</td>\n",
       "      <td>3.02</td>\n",
       "      <td>19</td>\n",
       "      <td>9</td>\n",
       "      <td>9</td>\n",
       "      <td>...</td>\n",
       "      <td>0</td>\n",
       "      <td>16(55%)</td>\n",
       "      <td>7</td>\n",
       "      <td>4</td>\n",
       "      <td>18</td>\n",
       "      <td>6</td>\n",
       "      <td>50</td>\n",
       "      <td>46(58%)</td>\n",
       "      <td>4(40%)</td>\n",
       "      <td>5(45%)</td>\n",
       "    </tr>\n",
       "    <tr>\n",
       "      <th>1</th>\n",
       "      <td>ATT Stadium</td>\n",
       "      <td>43,030</td>\n",
       "      <td>Peru</td>\n",
       "      <td>Chile</td>\n",
       "      <td>0</td>\n",
       "      <td>0</td>\n",
       "      <td>0.75</td>\n",
       "      <td>7</td>\n",
       "      <td>4</td>\n",
       "      <td>1</td>\n",
       "      <td>...</td>\n",
       "      <td>0</td>\n",
       "      <td>15(79%)</td>\n",
       "      <td>8</td>\n",
       "      <td>1</td>\n",
       "      <td>10</td>\n",
       "      <td>4</td>\n",
       "      <td>67</td>\n",
       "      <td>40(45%)</td>\n",
       "      <td>27(56%)</td>\n",
       "      <td>5(28%)</td>\n",
       "    </tr>\n",
       "    <tr>\n",
       "      <th>2</th>\n",
       "      <td>Levis Stadium</td>\n",
       "      <td>29,864</td>\n",
       "      <td>Ecuador</td>\n",
       "      <td>Venezuela</td>\n",
       "      <td>1</td>\n",
       "      <td>2</td>\n",
       "      <td>0.86</td>\n",
       "      <td>9</td>\n",
       "      <td>4</td>\n",
       "      <td>2</td>\n",
       "      <td>...</td>\n",
       "      <td>0</td>\n",
       "      <td>10(67%)</td>\n",
       "      <td>5</td>\n",
       "      <td>1</td>\n",
       "      <td>19</td>\n",
       "      <td>4</td>\n",
       "      <td>71</td>\n",
       "      <td>43(52%)</td>\n",
       "      <td>28(62%)</td>\n",
       "      <td>9(60%)</td>\n",
       "    </tr>\n",
       "    <tr>\n",
       "      <th>3</th>\n",
       "      <td>NRG Stadium</td>\n",
       "      <td>53,763</td>\n",
       "      <td>Mexico</td>\n",
       "      <td>Jamaica</td>\n",
       "      <td>1</td>\n",
       "      <td>0</td>\n",
       "      <td>0.97</td>\n",
       "      <td>20</td>\n",
       "      <td>9</td>\n",
       "      <td>1</td>\n",
       "      <td>...</td>\n",
       "      <td>0</td>\n",
       "      <td>13(68%)</td>\n",
       "      <td>10</td>\n",
       "      <td>5</td>\n",
       "      <td>35</td>\n",
       "      <td>8</td>\n",
       "      <td>61</td>\n",
       "      <td>37(54%)</td>\n",
       "      <td>24(52%)</td>\n",
       "      <td>10(67%)</td>\n",
       "    </tr>\n",
       "    <tr>\n",
       "      <th>4</th>\n",
       "      <td>ATT Stadium</td>\n",
       "      <td>47,873</td>\n",
       "      <td>USA</td>\n",
       "      <td>Bolivia</td>\n",
       "      <td>2</td>\n",
       "      <td>0</td>\n",
       "      <td>2.51</td>\n",
       "      <td>20</td>\n",
       "      <td>8</td>\n",
       "      <td>3</td>\n",
       "      <td>...</td>\n",
       "      <td>0</td>\n",
       "      <td>6(43%)</td>\n",
       "      <td>16</td>\n",
       "      <td>5</td>\n",
       "      <td>28</td>\n",
       "      <td>6</td>\n",
       "      <td>40</td>\n",
       "      <td>29(40%)</td>\n",
       "      <td>11(50%)</td>\n",
       "      <td>7(50%)</td>\n",
       "    </tr>\n",
       "  </tbody>\n",
       "</table>\n",
       "<p>5 rows × 86 columns</p>\n",
       "</div>"
      ]
     },
     "execution_count": 24,
     "metadata": {},
     "output_type": "execute_result"
    }
   ],
   "execution_count": 24
  },
  {
   "metadata": {},
   "cell_type": "markdown",
   "source": "# Step 2: Outputs",
   "id": "2f6c1df3bd3a22be"
  },
  {
   "metadata": {
    "ExecuteTime": {
     "end_time": "2025-10-09T10:09:00.012301Z",
     "start_time": "2025-10-09T10:09:00.008990Z"
    }
   },
   "cell_type": "code",
   "source": [
    "BASE = Path.cwd()\n",
    "OUT_RAW = BASE / \"outputs_copa\" / \"raw\"\n",
    "OUT_STAGING = BASE / \"outputs_copa\" / \"staging\"\n",
    "OUT_PROCESSED = BASE / \"outputs_copa\" / \"processed\"\n",
    "for p in (OUT_RAW, OUT_STAGING, OUT_PROCESSED):\n",
    "    p.mkdir(parents=True, exist_ok=True)"
   ],
   "id": "e1582e4dfc227eb6",
   "outputs": [],
   "execution_count": 3
  },
  {
   "metadata": {},
   "cell_type": "markdown",
   "source": "# Step 3: Data retrieval",
   "id": "8ced67bf045b9c84"
  },
  {
   "metadata": {
    "ExecuteTime": {
     "end_time": "2025-10-09T10:10:29.230091Z",
     "start_time": "2025-10-09T10:10:29.221790Z"
    }
   },
   "cell_type": "code",
   "source": "print(FBref.available_leagues())",
   "id": "2830d0cadf3dfb1e",
   "outputs": [
    {
     "name": "stdout",
     "output_type": "stream",
     "text": [
      "['Big 5 European Leagues Combined', 'ENG-Premier League', 'ESP-La Liga', 'FRA-Ligue 1', 'GER-Bundesliga', 'INT-European Championship', \"INT-Women's World Cup\", 'INT-World Cup', 'ITA-Serie A']\n"
     ]
    }
   ],
   "execution_count": 5
  },
  {
   "metadata": {
    "ExecuteTime": {
     "end_time": "2025-10-09T10:49:55.979094Z",
     "start_time": "2025-10-09T10:49:55.942128Z"
    }
   },
   "cell_type": "code",
   "source": [
    "import io, re, pandas as pd\n",
    "from bs4 import BeautifulSoup, Comment\n",
    "\n",
    "soup = BeautifulSoup(r.text, \"lxml\")\n",
    "\n",
    "# Prefer wrapper(s) like all_stats_standard or all_stats_*standard*\n",
    "wrapper = soup.find(\"div\", id=re.compile(r\"^all_stats_.*standard\"))\n",
    "if wrapper is None:\n",
    "    # sometimes FBref uses a slightly different id or structure; list what’s there\n",
    "    candidates = [div.get(\"id\") for div in soup.find_all(\"div\", id=True) if str(div.get(\"id\")).startswith(\"all_stats_\")]\n",
    "    print(\"Found wrappers:\", candidates)\n",
    "    # fallback: search the whole page’s comments for any table with player rows\n",
    "    comments_scope = soup.find_all(string=lambda s: isinstance(s, Comment))\n",
    "else:\n",
    "    comments_scope = wrapper.find_all(string=lambda s: isinstance(s, Comment))\n",
    "\n",
    "comment_with_table = None\n",
    "for c in comments_scope:\n",
    "    # look for an HTML table that has player data (data-stat=\"player\") and the 'stats_standard' id\n",
    "    if \"<table\" in c and ('data-stat=\"player\"' in c) and (\"stats_standard\" in c or \"standard\" in c):\n",
    "        comment_with_table = c\n",
    "        break\n",
    "\n",
    "if comment_with_table is None:\n",
    "    raise RuntimeError(\"Found no commented standard table. Check the page preview prints above; you may be blocked.\")\n",
    "\n",
    "tables = pd.read_html(io.StringIO(comment_with_table), flavor=\"lxml\", displayed_only=False)\n",
    "copa_df = tables[0]\n",
    "\n",
    "print(\"Copa parsed shape:\", copa_df.shape)\n",
    "print(copa_df.columns[:12])\n",
    "print(copa_df.head(3))"
   ],
   "id": "d199ad363bc5d902",
   "outputs": [
    {
     "name": "stdout",
     "output_type": "stream",
     "text": [
      "Found wrappers: []\n"
     ]
    },
    {
     "ename": "RuntimeError",
     "evalue": "Found no commented standard table. Check the page preview prints above; you may be blocked.",
     "output_type": "error",
     "traceback": [
      "\u001B[31m---------------------------------------------------------------------------\u001B[39m",
      "\u001B[31mRuntimeError\u001B[39m                              Traceback (most recent call last)",
      "\u001B[36mCell\u001B[39m\u001B[36m \u001B[39m\u001B[32mIn[12]\u001B[39m\u001B[32m, line 25\u001B[39m\n\u001B[32m     22\u001B[39m         \u001B[38;5;28;01mbreak\u001B[39;00m\n\u001B[32m     24\u001B[39m \u001B[38;5;28;01mif\u001B[39;00m comment_with_table \u001B[38;5;129;01mis\u001B[39;00m \u001B[38;5;28;01mNone\u001B[39;00m:\n\u001B[32m---> \u001B[39m\u001B[32m25\u001B[39m     \u001B[38;5;28;01mraise\u001B[39;00m \u001B[38;5;167;01mRuntimeError\u001B[39;00m(\u001B[33m\"\u001B[39m\u001B[33mFound no commented standard table. Check the page preview prints above; you may be blocked.\u001B[39m\u001B[33m\"\u001B[39m)\n\u001B[32m     27\u001B[39m tables = pd.read_html(io.StringIO(comment_with_table), flavor=\u001B[33m\"\u001B[39m\u001B[33mlxml\u001B[39m\u001B[33m\"\u001B[39m, displayed_only=\u001B[38;5;28;01mFalse\u001B[39;00m)\n\u001B[32m     28\u001B[39m copa_df = tables[\u001B[32m0\u001B[39m]\n",
      "\u001B[31mRuntimeError\u001B[39m: Found no commented standard table. Check the page preview prints above; you may be blocked."
     ]
    }
   ],
   "execution_count": 12
  },
  {
   "metadata": {},
   "cell_type": "code",
   "outputs": [],
   "execution_count": null,
   "source": [
    "def build_player_agg(year: str = \"2024\") -> pd.DataFrame:\n",
    "    \"\"\"\n",
    "    Build one-row-per-player aggregate for EURO {year}.\n",
    "    Saves raw -> staging -> processed parquet files.\n",
    "    \"\"\"\n",
    "    # 1) fetch raw standard table\n",
    "    fb = FBref(leagues=[\"INT-Copa América\"], seasons=[year])\n",
    "    season_stats = fb.read_player_season_stats(stat_type=\"standard\")\n",
    "\n",
    "    raw_path = OUT_RAW / f\"player_standard_euro_{year}.parquet\"\n",
    "    season_stats.to_pickle(raw_path.with_suffix(\".pkl\"))\n",
    "\n",
    "    # 2) flatten & stage\n",
    "    stats = _flatten_cols(season_stats)\n",
    "    stats_path = OUT_STAGING / f\"player_standard_euro_{year}.parquet\"\n",
    "    stats.to_parquet(stats_path, engine='fastparquet')\n",
    "\n",
    "    # 3) ensure all mapped columns exist\n",
    "    missing = [k for k in player_info.keys() if k not in stats.columns]\n",
    "    for m in missing:\n",
    "        stats[m] = pd.NA\n",
    "\n",
    "    # 4) rename to canonical schema\n",
    "    agg = stats[list(player_info.keys())].rename(columns=player_info).copy()\n",
    "    agg[\"tournament\"] = \"COPA\"\n",
    "\n",
    "    # 5) coerce types for numerics (prevents string math weirdness)\n",
    "    numeric_cols = [\n",
    "        \"age\",\"birth_year\",\"mp\",\"starts\",\"minutes\",\"nineties\",\n",
    "        \"gls\",\"ast\",\"ga\",\"g_pk\",\"xg\",\"xag\",\"xg_xag\",\"npxg\",\"npxg_xag\",\n",
    "        \"gls_90\",\"ast_90\",\"ga_90\",\"g_pk_90\",\n",
    "    ]\n",
    "    for c in numeric_cols:\n",
    "        if c in agg.columns:\n",
    "            agg[c] = pd.to_numeric(agg[c], errors=\"coerce\")\n",
    "\n",
    "    # tournament year as int for clean grouping\n",
    "    agg[\"tournament_year\"] = pd.to_numeric(agg[\"tournament_year\"], errors=\"coerce\").astype(\"Int64\")\n",
    "\n",
    "    # 6) derivatives\n",
    "    agg[\"primary_pos\"] = agg[\"pos_raw\"].apply(_pick_player_pos)\n",
    "\n",
    "    n90 = agg[\"nineties\"]\n",
    "    for src, dst in [\n",
    "        (\"xg\", \"xg_90\"), (\"xag\", \"xag_90\"), (\"xg_xag\", \"xg_xag_90\"),\n",
    "        (\"npxg\", \"npxg_90\"), (\"npxg_xag\", \"npxg_xag_90\"),\n",
    "    ]:\n",
    "        if dst not in agg.columns:\n",
    "            agg[dst] = _safe_div(agg[src], n90)\n",
    "\n",
    "    # usage\n",
    "    team_minutes = agg.groupby([\"team_name\", \"tournament_year\"])[\"minutes\"].transform(\"sum\")\n",
    "    agg[\"minutes_share\"] = _safe_div(agg[\"minutes\"], team_minutes)\n",
    "    agg[\"starter_rate\"] = _safe_div(agg[\"starts\"], agg[\"mp\"])\n",
    "\n",
    "    # 7) QA guards\n",
    "    agg = agg[agg[\"league\"].eq(\"INT-European Championship\")]\n",
    "    agg = agg.drop_duplicates(subset=[\"player_name\", \"player_country\", \"tournament_year\"])\n",
    "\n",
    "    agg[\"minutes\"] = agg[\"minutes\"].clip(lower=0, upper=720)\n",
    "    agg[\"minutes_share\"] = agg[\"minutes_share\"].clip(lower=0, upper=1.25)\n",
    "\n",
    "    # 8) final column order\n",
    "    cols = [\n",
    "        \"player_name\",\"player_country\",\"team_name\",\"tournament\",\"tournament_year\",\n",
    "        \"age\",\"birth_year\",\"pos_raw\",\"primary_pos\",\n",
    "        \"mp\",\"starts\",\"minutes\",\"nineties\",\"minutes_share\",\"starter_rate\",\n",
    "        \"gls\",\"ast\",\"ga\",\"xg\",\"xag\",\"xg_xag\",\"npxg\",\"npxg_xag\",\n",
    "        \"gls_90\",\"ast_90\",\"ga_90\",\"xg_90\",\"xag_90\",\"xg_xag_90\",\"npxg_90\",\"npxg_xag_90\",\n",
    "    ]\n",
    "    for c in cols:\n",
    "        if c not in agg.columns:\n",
    "            agg[c] = pd.NA\n",
    "    agg = agg[cols]\n",
    "\n",
    "    # 9) save processed\n",
    "    out_path = OUT_PROCESSED / f\"player_agg_euro_{year}.parquet\"\n",
    "    agg.to_parquet(out_path, engine='fastparquet')\n",
    "\n",
    "    # tiny sanity prints (optional)\n",
    "    print(f\"Saved raw      → {raw_path}\")\n",
    "    print(f\"Saved staging  → {stats_path}\")\n",
    "    print(f\"Saved processed→ {out_path} ({len(agg)} rows, {len(agg.columns)} cols)\")\n",
    "    return agg"
   ],
   "id": "88661d718c1f04e4"
  },
  {
   "metadata": {},
   "cell_type": "code",
   "outputs": [],
   "execution_count": null,
   "source": "build_player_agg()",
   "id": "e17466aacf515b6f"
  }
 ],
 "metadata": {
  "kernelspec": {
   "display_name": "Python 3",
   "language": "python",
   "name": "python3"
  },
  "language_info": {
   "codemirror_mode": {
    "name": "ipython",
    "version": 2
   },
   "file_extension": ".py",
   "mimetype": "text/x-python",
   "name": "python",
   "nbconvert_exporter": "python",
   "pygments_lexer": "ipython2",
   "version": "2.7.6"
  }
 },
 "nbformat": 4,
 "nbformat_minor": 5
}
