{
 "cells": [
  {
   "metadata": {},
   "cell_type": "markdown",
   "source": [
    "## Prediction model\n",
    "\n",
    "Main purpose of this model:\n",
    "Predict whether a player will perform above or below their expected xG/xA/Defensive actions/goals prevented\n",
    "\n",
    "| Role        | Better Target                                               |\n",
    "|-------------|-------------------------------------------------------------|\n",
    "| Forwards    | Over/under xG (finishing efficiency)                        |\n",
    "| Midfielders | xA vs Assists (creative efficiency)                         |\n",
    "| Defenders   | Defensive actions per 90/ duel success rate                 |\n",
    "| Goalkeepers | Goals prevented vs. expected (post-shot xG - goals conceded |\n"
   ],
   "id": "d26229eb5a8fa080"
  },
  {
   "metadata": {},
   "cell_type": "markdown",
   "source": [
    "⚙️ 1. Define role-specific “performance targets”\n",
    "\n",
    "We’ll use one main efficiency metric per role:\n",
    "\n",
    "| Role                                    | Target Definition                                         | Meaning                                     |\n",
    "|-----------------------------------------|-----------------------------------------------------------|---------------------------------------------|\n",
    "| Forwards (FW)                           | goals_per90 / xg_per90                                    | finishing efficiency — > 1 = overperforming |\n",
    "| Attacking / Central Midfielders (MF/AM) | assists_per90 / xag_per90                                 | creative efficiency — > 1 = outperforming expected assists |\n",
    "| Defenders (DF)                          | tackles_won + interceptions + clearances per 90           | defensive activity (normalized)             |\n",
    "| Goalkeepers (GK)                        | expected_goals_on_target_conceded – goals_conceded per 90 | shot-stopping efficiency — positive = saving more than expected |\n"
   ],
   "id": "6b1b03e0ff81eb81"
  },
  {
   "metadata": {},
   "cell_type": "markdown",
   "source": [
    "Regression Model\n",
    "\n",
    "Why did we pick a regression model? Regression models predict continuous values, we are trying to predict how a player will perform on the epl based on their euro performance."
   ],
   "id": "18ea57c3165e52d2"
  },
  {
   "metadata": {},
   "cell_type": "markdown",
   "source": "# Step 1: Imports",
   "id": "7ceffa5510ba60bb"
  },
  {
   "metadata": {
    "ExecuteTime": {
     "end_time": "2025-10-15T10:31:13.383961Z",
     "start_time": "2025-10-15T10:29:28.190306Z"
    }
   },
   "cell_type": "code",
   "source": "!pip install matplotlib\n",
   "id": "ae7e6d5758ad4208",
   "outputs": [
    {
     "name": "stdout",
     "output_type": "stream",
     "text": [
      "Collecting matplotlib\r\n",
      "  Downloading matplotlib-3.10.7-cp311-cp311-macosx_11_0_arm64.whl.metadata (11 kB)\r\n",
      "Collecting contourpy>=1.0.1 (from matplotlib)\r\n",
      "  Using cached contourpy-1.3.3-cp311-cp311-macosx_11_0_arm64.whl.metadata (5.5 kB)\r\n",
      "Collecting cycler>=0.10 (from matplotlib)\r\n",
      "  Using cached cycler-0.12.1-py3-none-any.whl.metadata (3.8 kB)\r\n",
      "Collecting fonttools>=4.22.0 (from matplotlib)\r\n",
      "  Downloading fonttools-4.60.1-cp311-cp311-macosx_10_9_universal2.whl.metadata (112 kB)\r\n",
      "\u001B[2K     \u001B[90m━━━━━━━━━━━━━━━━━━━━━━━━━━━━━━━━━━━━━\u001B[0m \u001B[32m112.3/112.3 kB\u001B[0m \u001B[31m137.8 kB/s\u001B[0m eta \u001B[36m0:00:00\u001B[0ma \u001B[36m0:00:01\u001B[0m\r\n",
      "\u001B[?25hCollecting kiwisolver>=1.3.1 (from matplotlib)\r\n",
      "  Using cached kiwisolver-1.4.9-cp311-cp311-macosx_11_0_arm64.whl.metadata (6.3 kB)\r\n",
      "Requirement already satisfied: numpy>=1.23 in /Users/derrick/DataspellProjects/epl/epl-predictor/backend/epl/lib/python3.11/site-packages (from matplotlib) (2.3.3)\r\n",
      "Requirement already satisfied: packaging>=20.0 in /Users/derrick/DataspellProjects/epl/epl-predictor/backend/epl/lib/python3.11/site-packages (from matplotlib) (24.2)\r\n",
      "Requirement already satisfied: pillow>=8 in /Users/derrick/DataspellProjects/epl/epl-predictor/backend/epl/lib/python3.11/site-packages (from matplotlib) (11.0.0)\r\n",
      "Requirement already satisfied: pyparsing>=3 in /Users/derrick/DataspellProjects/epl/epl-predictor/backend/epl/lib/python3.11/site-packages (from matplotlib) (3.2.5)\r\n",
      "Requirement already satisfied: python-dateutil>=2.7 in /Users/derrick/DataspellProjects/epl/epl-predictor/backend/epl/lib/python3.11/site-packages (from matplotlib) (2.9.0.post0)\r\n",
      "Requirement already satisfied: six>=1.5 in /Users/derrick/DataspellProjects/epl/epl-predictor/backend/epl/lib/python3.11/site-packages (from python-dateutil>=2.7->matplotlib) (1.17.0)\r\n",
      "Downloading matplotlib-3.10.7-cp311-cp311-macosx_11_0_arm64.whl (8.1 MB)\r\n",
      "\u001B[2K   \u001B[90m━━━━━━━━━━━━━━━━━━━━━━━━━━━━━━━━━━━━━━━━\u001B[0m \u001B[32m8.1/8.1 MB\u001B[0m \u001B[31m115.5 kB/s\u001B[0m eta \u001B[36m0:00:00\u001B[0m00:01\u001B[0m00:02\u001B[0m\r\n",
      "\u001B[?25hUsing cached contourpy-1.3.3-cp311-cp311-macosx_11_0_arm64.whl (270 kB)\r\n",
      "Using cached cycler-0.12.1-py3-none-any.whl (8.3 kB)\r\n",
      "Downloading fonttools-4.60.1-cp311-cp311-macosx_10_9_universal2.whl (2.8 MB)\r\n",
      "\u001B[2K   \u001B[90m━━━━━━━━━━━━━━━━━━━━━━━━━━━━━━━━━━━━━━━━\u001B[0m \u001B[32m2.8/2.8 MB\u001B[0m \u001B[31m544.0 kB/s\u001B[0m eta \u001B[36m0:00:00\u001B[0m00:01\u001B[0m00:01\u001B[0m\r\n",
      "\u001B[?25hUsing cached kiwisolver-1.4.9-cp311-cp311-macosx_11_0_arm64.whl (65 kB)\r\n",
      "Installing collected packages: kiwisolver, fonttools, cycler, contourpy, matplotlib\r\n",
      "Successfully installed contourpy-1.3.3 cycler-0.12.1 fonttools-4.60.1 kiwisolver-1.4.9 matplotlib-3.10.7\r\n",
      "\r\n",
      "\u001B[1m[\u001B[0m\u001B[34;49mnotice\u001B[0m\u001B[1;39;49m]\u001B[0m\u001B[39;49m A new release of pip is available: \u001B[0m\u001B[31;49m24.0\u001B[0m\u001B[39;49m -> \u001B[0m\u001B[32;49m25.2\u001B[0m\r\n",
      "\u001B[1m[\u001B[0m\u001B[34;49mnotice\u001B[0m\u001B[1;39;49m]\u001B[0m\u001B[39;49m To update, run: \u001B[0m\u001B[32;49mpip install --upgrade pip\u001B[0m\r\n"
     ]
    }
   ],
   "execution_count": 54
  },
  {
   "metadata": {
    "ExecuteTime": {
     "end_time": "2025-10-14T09:52:26.390681Z",
     "start_time": "2025-10-14T09:51:00.643979Z"
    }
   },
   "cell_type": "code",
   "source": "!pip install torch torchvision torchaudio --index-url https://download.pytorch.org/whl/cpu",
   "id": "64f53f7fba3d4c06",
   "outputs": [
    {
     "name": "stdout",
     "output_type": "stream",
     "text": [
      "Looking in indexes: https://download.pytorch.org/whl/cpu\r\n",
      "Collecting torch\r\n",
      "  Downloading https://download.pytorch.org/whl/cpu/torch-2.8.0-cp311-none-macosx_11_0_arm64.whl.metadata (29 kB)\r\n",
      "Collecting torchvision\r\n",
      "  Downloading https://download.pytorch.org/whl/cpu/torchvision-0.23.0-cp311-cp311-macosx_11_0_arm64.whl.metadata (6.1 kB)\r\n",
      "Collecting torchaudio\r\n",
      "  Downloading https://download.pytorch.org/whl/cpu/torchaudio-2.8.0-cp311-cp311-macosx_11_0_arm64.whl.metadata (7.2 kB)\r\n",
      "Collecting filelock (from torch)\r\n",
      "  Downloading https://download.pytorch.org/whl/filelock-3.13.1-py3-none-any.whl.metadata (2.8 kB)\r\n",
      "Requirement already satisfied: typing-extensions>=4.10.0 in /Users/derrick/DataspellProjects/epl/epl-predictor/backend/epl/lib/python3.11/site-packages (from torch) (4.15.0)\r\n",
      "Collecting sympy>=1.13.3 (from torch)\r\n",
      "  Downloading https://download.pytorch.org/whl/sympy-1.13.3-py3-none-any.whl.metadata (12 kB)\r\n",
      "Collecting networkx (from torch)\r\n",
      "  Downloading https://download.pytorch.org/whl/networkx-3.3-py3-none-any.whl.metadata (5.1 kB)\r\n",
      "Requirement already satisfied: jinja2 in /Users/derrick/DataspellProjects/epl/epl-predictor/backend/epl/lib/python3.11/site-packages (from torch) (3.1.6)\r\n",
      "Requirement already satisfied: fsspec in /Users/derrick/DataspellProjects/epl/epl-predictor/backend/epl/lib/python3.11/site-packages (from torch) (2025.9.0)\r\n",
      "Requirement already satisfied: numpy in /Users/derrick/DataspellProjects/epl/epl-predictor/backend/epl/lib/python3.11/site-packages (from torchvision) (2.3.3)\r\n",
      "Collecting pillow!=8.3.*,>=5.3.0 (from torchvision)\r\n",
      "  Downloading https://download.pytorch.org/whl/pillow-11.0.0-cp311-cp311-macosx_11_0_arm64.whl.metadata (9.1 kB)\r\n",
      "Collecting mpmath<1.4,>=1.1.0 (from sympy>=1.13.3->torch)\r\n",
      "  Downloading https://download.pytorch.org/whl/mpmath-1.3.0-py3-none-any.whl (536 kB)\r\n",
      "\u001B[2K     \u001B[90m━━━━━━━━━━━━━━━━━━━━━━━━━━━━━━━━━━━━━━\u001B[0m \u001B[32m536.2/536.2 kB\u001B[0m \u001B[31m22.3 MB/s\u001B[0m eta \u001B[36m0:00:00\u001B[0m\r\n",
      "\u001B[?25hRequirement already satisfied: MarkupSafe>=2.0 in /Users/derrick/DataspellProjects/epl/epl-predictor/backend/epl/lib/python3.11/site-packages (from jinja2->torch) (3.0.3)\r\n",
      "Downloading https://download.pytorch.org/whl/cpu/torch-2.8.0-cp311-none-macosx_11_0_arm64.whl (73.5 MB)\r\n",
      "\u001B[2K   \u001B[90m━━━━━━━━━━━━━━━━━━━━━━━━━━━━━━━━━━━━━━━━\u001B[0m \u001B[32m73.5/73.5 MB\u001B[0m \u001B[31m1.7 MB/s\u001B[0m eta \u001B[36m0:00:00\u001B[0m00:01\u001B[0m00:02\u001B[0m\r\n",
      "\u001B[?25hDownloading https://download.pytorch.org/whl/cpu/torchvision-0.23.0-cp311-cp311-macosx_11_0_arm64.whl (1.9 MB)\r\n",
      "\u001B[2K   \u001B[90m━━━━━━━━━━━━━━━━━━━━━━━━━━━━━━━━━━━━━━━━\u001B[0m \u001B[32m1.9/1.9 MB\u001B[0m \u001B[31m2.2 MB/s\u001B[0m eta \u001B[36m0:00:00\u001B[0m00:01\u001B[0m00:01\u001B[0m\r\n",
      "\u001B[?25hDownloading https://download.pytorch.org/whl/cpu/torchaudio-2.8.0-cp311-cp311-macosx_11_0_arm64.whl (1.9 MB)\r\n",
      "\u001B[2K   \u001B[90m━━━━━━━━━━━━━━━━━━━━━━━━━━━━━━━━━━━━━━━━\u001B[0m \u001B[32m1.9/1.9 MB\u001B[0m \u001B[31m1.6 MB/s\u001B[0m eta \u001B[36m0:00:00\u001B[0ma \u001B[36m0:00:01\u001B[0m0m\r\n",
      "\u001B[?25hDownloading https://download.pytorch.org/whl/pillow-11.0.0-cp311-cp311-macosx_11_0_arm64.whl (3.0 MB)\r\n",
      "\u001B[2K   \u001B[90m━━━━━━━━━━━━━━━━━━━━━━━━━━━━━━━━━━━━━━━━\u001B[0m \u001B[32m3.0/3.0 MB\u001B[0m \u001B[31m2.4 MB/s\u001B[0m eta \u001B[36m0:00:00\u001B[0m00:01\u001B[0m00:01\u001B[0m0m\r\n",
      "\u001B[?25hDownloading https://download.pytorch.org/whl/sympy-1.13.3-py3-none-any.whl (6.2 MB)\r\n",
      "\u001B[2K   \u001B[90m━━━━━━━━━━━━━━━━━━━━━━━━━━━━━━━━━━━━━━━━\u001B[0m \u001B[32m6.2/6.2 MB\u001B[0m \u001B[31m2.1 MB/s\u001B[0m eta \u001B[36m0:00:00\u001B[0m00:01\u001B[0m00:01\u001B[0mm\r\n",
      "\u001B[?25hDownloading https://download.pytorch.org/whl/filelock-3.13.1-py3-none-any.whl (11 kB)\r\n",
      "Downloading https://download.pytorch.org/whl/networkx-3.3-py3-none-any.whl (1.7 MB)\r\n",
      "\u001B[2K   \u001B[90m━━━━━━━━━━━━━━━━━━━━━━━━━━━━━━━━━━━━━━━━\u001B[0m \u001B[32m1.7/1.7 MB\u001B[0m \u001B[31m1.9 MB/s\u001B[0m eta \u001B[36m0:00:00\u001B[0ma \u001B[36m0:00:01\u001B[0m\r\n",
      "\u001B[?25hInstalling collected packages: mpmath, sympy, pillow, networkx, filelock, torch, torchvision, torchaudio\r\n",
      "Successfully installed filelock-3.13.1 mpmath-1.3.0 networkx-3.3 pillow-11.0.0 sympy-1.13.3 torch-2.8.0 torchaudio-2.8.0 torchvision-0.23.0\r\n"
     ]
    }
   ],
   "execution_count": 1
  },
  {
   "cell_type": "code",
   "id": "initial_id",
   "metadata": {
    "collapsed": true,
    "ExecuteTime": {
     "end_time": "2025-10-15T11:39:23.596216Z",
     "start_time": "2025-10-15T11:39:23.588869Z"
    }
   },
   "source": [
    "import torch\n",
    "import pandas as pd\n",
    "from pathlib import Path\n",
    "import os\n",
    "import numpy as np\n",
    "from sklearn.model_selection import train_test_split, KFold, cross_val_score\n",
    "from sklearn.compose import ColumnTransformer\n",
    "from sklearn.impute import SimpleImputer\n",
    "from sklearn.preprocessing import StandardScaler, OneHotEncoder\n",
    "from sklearn.pipeline import Pipeline\n",
    "from sklearn.metrics import mean_absolute_error, mean_squared_error, r2_score\n",
    "from sklearn.linear_model import LinearRegression, RidgeCV, LassoCV\n",
    "from sklearn.ensemble import RandomForestRegressor\n",
    "import matplotlib.pyplot as plt\n",
    "from soccerdata import FBref\n",
    "import unicodedata\n",
    "from unidecode import unidecode"
   ],
   "outputs": [],
   "execution_count": 82
  },
  {
   "metadata": {},
   "cell_type": "markdown",
   "source": [
    "# Step 2: Data Preparation\n",
    "\n",
    "1.\tload your Euro parquet → 2) clean & engineer features/targets in pandas → 3) split data → 4) (optionally) scale/encode → 5) convert to tensors → 6) wrap in a Dataset/DataLoader."
   ],
   "id": "28cf8ae030e5fa8c"
  },
  {
   "metadata": {
    "ExecuteTime": {
     "end_time": "2025-10-14T10:24:46.290352Z",
     "start_time": "2025-10-14T10:24:46.283626Z"
    }
   },
   "cell_type": "code",
   "source": [
    "print(Path.cwd())\n",
    "\n",
    "current_dir = Path.cwd()\n",
    "parent_dir = current_dir.parent\n",
    "\n",
    "sub_folder = os.path.join(parent_dir, \"data\")\n",
    "tgt_subfolder = os.path.join(sub_folder, \"tournaments\")\n",
    "tgt_parent_subfolder = os.path.join(tgt_subfolder, \"outputs_euro\")\n",
    "target = os.path.join(tgt_parent_subfolder, \"processed\", 'player_agg_euro_2024.parquet')\n",
    "\n",
    "DATA = target\n",
    "\n",
    "if os.path.exists(DATA):\n",
    "    print(f\"The path '{DATA}' exists.\")\n",
    "else:\n",
    "    print(f\"The path '{DATA}' does not exist.\")"
   ],
   "id": "1e4f9b62207b01a9",
   "outputs": [
    {
     "name": "stdout",
     "output_type": "stream",
     "text": [
      "/Users/derrick/DataspellProjects/epl/epl-predictor/backend/models\n",
      "The path '/Users/derrick/DataspellProjects/epl/epl-predictor/backend/data/tournaments/outputs_euro/processed/player_agg_euro_2024.parquet' exists.\n"
     ]
    }
   ],
   "execution_count": 20
  },
  {
   "metadata": {
    "ExecuteTime": {
     "end_time": "2025-10-14T10:24:48.117059Z",
     "start_time": "2025-10-14T10:24:48.103341Z"
    }
   },
   "cell_type": "code",
   "source": [
    "# Load the data from the outputs_euro\n",
    "\n",
    "df = pd.read_parquet(DATA)\n",
    "\n",
    "df = df[df['minutes'].fillna(0) > 0].copy()\n",
    "\n",
    "# get the roles for the players\n",
    "def to_role(p):\n",
    "    if isinstance(p, str):\n",
    "        p = p.split(\",\")[0].strip()\n",
    "    if p in (\"GK\",):                     return \"GK\"\n",
    "    if p in (\"DF\",\"FB\",\"WB\",\"CB\"):       return \"DF\"\n",
    "    if p in (\"MF\",\"DM\",\"CM\",\"AM\",\"WM\"):  return \"MF\"\n",
    "    if p in (\"FW\",\"CF\",\"WF\",\"SS\"):       return \"FW\"\n",
    "    return 'UNK'\n",
    "\n",
    "df['role'] = df['primary_pos'].apply(to_role)\n",
    "df = df[df[\"role\"] != \"UNK\"].copy()\n"
   ],
   "id": "53682f0d6aef423",
   "outputs": [],
   "execution_count": 21
  },
  {
   "metadata": {},
   "cell_type": "markdown",
   "source": [
    "In this section, we define the target tasks, meaning we break down the most suitable metrics to use\n",
    "* There is a lot of bias when using xg as defenders and goalkeepers tend to have a low xg, so divide the targets into 2\n",
    "* Forwards: we use the gls per 90 (goals scored per game) vs xg per 90(expected goals per game)\n",
    "* Midfielders/defenders/goalkeepers: We use starter rate: typically means how many games they start, why:\n",
    "1.         Consistency & trust\n",
    "2.         Coaches repeatedly starting a player indicates reliability, fitness, and tactical importance.\n",
    "3.         Cross-positional availability\n",
    "4.         Every player has this stat — from goalkeepers to forwards. It allows comparing “usage” levels within a team or role.\n",
    "5.         Indirect performance signal\n",
    "\n",
    "Later on, we will add richer stats for the defenders and midfielders (tackles, clearances, passes completed, saves)"
   ],
   "id": "56ba7e93f4eb0829"
  },
  {
   "metadata": {
    "ExecuteTime": {
     "end_time": "2025-10-15T09:01:24.105032Z",
     "start_time": "2025-10-15T09:01:24.073743Z"
    }
   },
   "cell_type": "code",
   "source": [
    "# --- Helpers ---\n",
    "def zscore(s: pd.Series) -> pd.Series:\n",
    "    s = pd.to_numeric(s, errors=\"coerce\")\n",
    "    mu = s.mean()\n",
    "    sd = s.std(ddof=0)\n",
    "    if pd.isna(sd) or sd == 0:\n",
    "        return pd.Series(0.0, index=s.index, dtype=\"Float64\")\n",
    "    out = (s - mu) / sd\n",
    "    return out.astype(\"Float64\")\n",
    "\n",
    "# Ensure role exists (map from your 'primary_pos'); adjust if you already built 'role'\n",
    "if \"role\" not in df.columns:\n",
    "    pos = df[\"primary_pos\"].fillna(\"\")\n",
    "    df[\"role\"] = (\n",
    "        np.select(\n",
    "            [\n",
    "                pos.str.startswith((\"FW\",\"ST\",\"CF\",\"LW\",\"RW\")),\n",
    "                pos.str.startswith((\"MF\",\"CM\",\"DM\",\"AM\",\"LM\",\"RM\")),\n",
    "                pos.str.startswith((\"DF\",\"CB\",\"RB\",\"LB\",\"RWB\",\"LWB\")),\n",
    "                pos.str.startswith((\"GK\",)),\n",
    "            ],\n",
    "            [\"FW\",\"MID\",\"DEF\",\"GK\"],\n",
    "            default=\"MID\",\n",
    "        )\n",
    "        .astype(\"string\")\n",
    "    )\n",
    "\n",
    "# Make sure source columns are numeric\n",
    "for c in [\"gls_90\",\"xg_90\",\"starter_rate\"]:\n",
    "    if c in df.columns:\n",
    "        df[c] = pd.to_numeric(df[c], errors=\"coerce\")\n",
    "\n",
    "# --- Build targets with explicit nullable dtypes ---\n",
    "is_fw = df[\"role\"].eq(\"FW\").fillna(False)\n",
    "\n",
    "# target_cls: Int8 (nullable)\n",
    "df[\"target_cls\"] = pd.Series(pd.NA, index=df.index, dtype=\"Int8\")\n",
    "# Forwards: goals per 90 > xG per 90\n",
    "comp_fw = (df.loc[is_fw, \"gls_90\"] > df.loc[is_fw, \"xg_90\"]).astype(\"Int8\")\n",
    "df.loc[is_fw, \"target_cls\"] = comp_fw\n",
    "\n",
    "# Non-forwards: starter_rate >= median within non-FW\n",
    "non_fw = ~is_fw\n",
    "thr = df.loc[non_fw, \"starter_rate\"].median(skipna=True)\n",
    "df.loc[non_fw, \"target_cls\"] = (df.loc[non_fw, \"starter_rate\"] >= thr).astype(\"Int8\")\n",
    "\n",
    "# target_reg: Float64 (nullable)\n",
    "df[\"target_reg\"] = pd.Series(pd.NA, index=df.index, dtype=\"Float64\")\n",
    "\n",
    "# Forwards: z-score of (gls_90 - xg_90)\n",
    "df[\"delta_fw\"] = (df[\"gls_90\"] - df[\"xg_90\"]).astype(\"Float64\")\n",
    "df.loc[is_fw, \"target_reg\"] = zscore(df.loc[is_fw, \"delta_fw\"]).astype(\"Float64\")\n",
    "\n",
    "# Others: z-score of starter_rate within each role (DEF/MID/GK separately)\n",
    "df[\"delta_other\"] = df[\"starter_rate\"].astype(\"Float64\")\n",
    "df.loc[non_fw, \"target_reg\"] = (\n",
    "    df.loc[non_fw]\n",
    "      .groupby(\"role\", group_keys=False)[\"delta_other\"]\n",
    "      .apply(zscore)\n",
    "      .astype(\"Float64\")\n",
    ")\n",
    "\n",
    "# Final modeling frame\n",
    "df_model = (\n",
    "    df.replace([np.inf, -np.inf], np.nan)\n",
    "      .dropna(subset=[\"target_cls\", \"target_reg\"])\n",
    "      .copy()\n",
    ")"
   ],
   "id": "84001764b10cc8d4",
   "outputs": [],
   "execution_count": 26
  },
  {
   "metadata": {},
   "cell_type": "markdown",
   "source": [
    "**Features**:\n",
    "\n",
    "Here we define the features that we will use to train the model, as for now we use the features with the least leakage, we will expand later on...\n"
   ],
   "id": "87c3c9609c9c741f"
  },
  {
   "metadata": {
    "ExecuteTime": {
     "end_time": "2025-10-15T10:12:09.495815Z",
     "start_time": "2025-10-15T10:12:09.489074Z"
    }
   },
   "cell_type": "code",
   "source": [
    "num_feats = [\n",
    "    \"age\",\"minutes\",\"nineties\",\"mp\",\"starts\",\n",
    "    \"minutes_share\",\"starter_rate\",\n",
    "    \"xg_90\",\"xag_90\",\"npxg_90\",\"npxg_xag_90\",\n",
    "    # light totals (scaled by 90s anyway, but fine to include)\n",
    "    \"gls_90\",\"ast_90\",\"ga_90\",\n",
    "]\n",
    "\n",
    "cat_feats = ['role']\n",
    "# Hot encode the features\n",
    "df_model = df_model.replace([np.inf, -np.inf], np.nan).copy()\n",
    "y = df_model[\"target_reg\"]\n",
    "mask = y.notna()\n",
    "y = y.loc[mask]\n",
    "X = df_model.loc[mask, num_feats + cat_feats]\n",
    "\n",
    "# the target variables for training\n",
    "y = df_model[\"target_reg\"].astype(float)"
   ],
   "id": "4b949a9b5bfac198",
   "outputs": [],
   "execution_count": 45
  },
  {
   "metadata": {},
   "cell_type": "markdown",
   "source": "# Step 3: Train/test split",
   "id": "debcee58926b0dbe"
  },
  {
   "metadata": {},
   "cell_type": "markdown",
   "source": [
    "As for the data we split it into three parts:\n",
    "1. train: 70%, to fit the model\n",
    "2. validation: 15%,, to monitor during training\n",
    "3. test: 15%, for final evaluation\n",
    "\n",
    "What are we aiming for or what is our target?\n",
    "Our target for the model is: Given a player’s minutes, xG, assists, role, etc., predict how far above or below expectation they perform\n",
    "\n",
    "Then we will use this prediction to:\n",
    "\n",
    "* Rank all players.\n",
    "* Cluster similar performers.\n",
    "* Identify consistent overperformers across tournaments."
   ],
   "id": "339e5915fc7d8573"
  },
  {
   "metadata": {
    "ExecuteTime": {
     "end_time": "2025-10-15T10:15:28.813429Z",
     "start_time": "2025-10-15T10:15:28.795298Z"
    }
   },
   "cell_type": "code",
   "source": [
    "# train split\n",
    "X_train, X_temp, y_train, y_temp = train_test_split(\n",
    "    X,\n",
    "    y,\n",
    "    test_size=0.2,\n",
    "    random_state=42,\n",
    "    stratify=df_model.loc[X.index, \"role\"]\n",
    ")\n",
    "\n",
    "# validation split\n",
    "X_val, X_test, y_val, y_test = train_test_split(\n",
    "    X_temp,\n",
    "    y_temp,\n",
    "    test_size=0.5,\n",
    "    random_state=42,\n",
    "    stratify=df_model.loc[X_temp.index, \"role\"]\n",
    ")\n"
   ],
   "id": "2cb3f4c924a226c",
   "outputs": [],
   "execution_count": 47
  },
  {
   "metadata": {},
   "cell_type": "markdown",
   "source": "# Step 4: Model definition and preprocessing",
   "id": "f68c38f0ca23ea4a"
  },
  {
   "metadata": {},
   "cell_type": "markdown",
   "source": [
    "\t1.\tUse Ridge to find stable feature importances.\n",
    "\t2.\tUse Random Forest to rank players and make performance predictions.\n",
    "\t3.\tCompare both — if they agree, your model’s probably capturing real signal."
   ],
   "id": "7635fdcffa87812a"
  },
  {
   "metadata": {
    "ExecuteTime": {
     "end_time": "2025-10-15T10:25:51.172831Z",
     "start_time": "2025-10-15T10:25:51.161306Z"
    }
   },
   "cell_type": "code",
   "source": [
    "# keep only numeric columns that have at least one observed value\n",
    "valid_num = [c for c in num_feats if X[c].notna().any()]\n",
    "dropped = sorted(set(num_feats) - set(valid_num))\n",
    "if dropped:\n",
    "    print(\"Dropping all-NaN numeric features:\", dropped)\n",
    "\n",
    "num_pipe = Pipeline([\n",
    "    (\"imputer\", SimpleImputer(strategy=\"median\")),\n",
    "    (\"scaler\", StandardScaler()),\n",
    "])\n",
    "\n",
    "cat_pipe = Pipeline([\n",
    "    (\"imputer\", SimpleImputer(strategy=\"most_frequent\")),\n",
    "    (\"onehot\", OneHotEncoder(handle_unknown=\"ignore\", sparse_output=False)),\n",
    "])\n",
    "\n",
    "pre = ColumnTransformer([\n",
    "    (\"num\", num_pipe, valid_num),\n",
    "    (\"cat\", cat_pipe, cat_feats),\n",
    "])\n",
    "\n",
    "\n",
    "models = {\n",
    "    \"linreg\": LinearRegression(),\n",
    "    \"ridge\": RidgeCV(alphas=np.logspace(-4, 4, 25), cv=5),\n",
    "    \"rf\": RandomForestRegressor(\n",
    "        n_estimators=600, max_depth=None, min_samples_leaf=2, random_state=42, n_jobs=-1\n",
    "    ),\n",
    "}\n",
    "\n",
    "pipes =  { name: Pipeline([(\"pre\", pre), (\"model\", m)]) for name, m in models.items() }"
   ],
   "id": "13969db3e9de0fc9",
   "outputs": [
    {
     "name": "stdout",
     "output_type": "stream",
     "text": [
      "Dropping all-NaN numeric features: ['ga_90']\n"
     ]
    }
   ],
   "execution_count": 50
  },
  {
   "metadata": {},
   "cell_type": "markdown",
   "source": "# Step 5: Train and validate the model",
   "id": "3fd3db2caa17ab27"
  },
  {
   "metadata": {
    "ExecuteTime": {
     "end_time": "2025-10-15T10:26:31.296484Z",
     "start_time": "2025-10-15T10:26:30.844910Z"
    }
   },
   "cell_type": "code",
   "source": [
    "def eval_reg(y_true, y_pred, label=''):\n",
    "    mae = mean_absolute_error(y_true, y_pred)\n",
    "    rmse = mean_squared_error(y_true, y_pred)\n",
    "    r2 = r2_score(y_true, y_pred)\n",
    "    print(f\"{label:>8} | MAE: {mae:.3f} | RMSE: {rmse:.3f} | R2: {r2:.3f}\")\n",
    "    return {\"mae\": mae, \"rmse\": rmse, \"r2\": r2}\n",
    "\n",
    "scores = {}\n",
    "for name, pipe in pipes.items():\n",
    "    # train the model\n",
    "    pipe.fit(X_train, y_train)\n",
    "    pred_val = pipe.predict(X_val)\n",
    "    scores[name] = eval_reg(y_val, pred_val)\n",
    "\n",
    "best_name = min(scores, key=lambda k: scores[k][\"rmse\"])\n",
    "best_pipe = pipes[best_name]\n",
    "print(f\"\\nBest on VAL: {best_name} → {scores[best_name]}\")"
   ],
   "id": "459253c68fda4144",
   "outputs": [
    {
     "name": "stdout",
     "output_type": "stream",
     "text": [
      "         | MAE: 0.356 | RMSE: 0.239 | R2: 0.592\n",
      "         | MAE: 0.358 | RMSE: 0.225 | R2: 0.615\n",
      "         | MAE: 0.084 | RMSE: 0.061 | R2: 0.895\n",
      "\n",
      "Best on VAL: rf → {'mae': 0.08359388400814628, 'rmse': 0.06124392318069984, 'r2': 0.8952674937817521}\n"
     ]
    }
   ],
   "execution_count": 52
  },
  {
   "metadata": {},
   "cell_type": "markdown",
   "source": "# Step 6: Test the model",
   "id": "7a1806564f115ad7"
  },
  {
   "metadata": {
    "ExecuteTime": {
     "end_time": "2025-10-15T10:28:48.872802Z",
     "start_time": "2025-10-15T10:28:48.829010Z"
    }
   },
   "cell_type": "code",
   "source": [
    "pred_test = best_pipe.predict(X_test)\n",
    "eval_reg(y_test, pred_test, \"TEST\")"
   ],
   "id": "bdefa7776160f4b9",
   "outputs": [
    {
     "name": "stdout",
     "output_type": "stream",
     "text": [
      "    TEST | MAE: 0.133 | RMSE: 0.302 | R2: 0.773\n"
     ]
    },
    {
     "data": {
      "text/plain": [
       "{'mae': 0.1334205961484647,\n",
       " 'rmse': 0.3018678743698257,\n",
       " 'r2': 0.7730205163462075}"
      ]
     },
     "execution_count": 53,
     "metadata": {},
     "output_type": "execute_result"
    }
   ],
   "execution_count": 53
  },
  {
   "metadata": {
    "ExecuteTime": {
     "end_time": "2025-10-15T10:31:40.674392Z",
     "start_time": "2025-10-15T10:31:40.361895Z"
    }
   },
   "cell_type": "code",
   "source": [
    "importances = best_pipe.named_steps[\"model\"].feature_importances_\n",
    "feature_names = pre.get_feature_names_out()\n",
    "sorted_idx = importances.argsort()\n",
    "\n",
    "plt.figure(figsize=(10, 6))\n",
    "plt.barh(feature_names[sorted_idx][-15:], importances[sorted_idx][-15:])\n",
    "plt.xlabel(\"Feature Importance\")\n",
    "plt.title(\"Top 15 Most Important Features\")\n",
    "plt.show()"
   ],
   "id": "d4e2e688f9c1c549",
   "outputs": [
    {
     "data": {
      "text/plain": [
       "<Figure size 1000x600 with 1 Axes>"
      ],
      "image/png": "[encoded data removed]"
     },
     "metadata": {},
     "output_type": "display_data"
    }
   ],
   "execution_count": 57
  },
  {
   "metadata": {},
   "cell_type": "markdown",
   "source": "# Step 7: Rank all euro players by the predicted performance",
   "id": "ed9b0530fc3a73cd"
  },
  {
   "metadata": {
    "ExecuteTime": {
     "end_time": "2025-10-15T10:42:05.002029Z",
     "start_time": "2025-10-15T10:42:04.953520Z"
    }
   },
   "cell_type": "code",
   "source": [
    "df_model[\"predicted_performance\"] = best_pipe.predict(X)\n",
    "\n",
    "df_ranked = df_model.sort_values(by=\"predicted_performance\", ascending=False)\n",
    "\n",
    "# Reset index for neatness\n",
    "df_ranked = df_ranked.reset_index(drop=True)\n",
    "\n",
    "# Display top 10\n",
    "df_ranked[[\"player_name\", \"role\", \"predicted_performance\"]]"
   ],
   "id": "94cfe6f66a793c0b",
   "outputs": [
    {
     "data": {
      "text/plain": [
       "             player_name role  predicted_performance\n",
       "0          Ollie Watkins   FW               2.479359\n",
       "1             Cenk Tosun   FW               1.486857\n",
       "2        Niclas Füllkrug   FW               1.424100\n",
       "3           Ivan Schranz   FW               1.178540\n",
       "4             Jan Mlakar   MF               1.032945\n",
       "..                   ...  ...                    ...\n",
       "479  Bartosz Bereszyński   DF              -2.193907\n",
       "480    Benjamin Henrichs   DF              -2.195982\n",
       "481        Kevin Csoboth   DF              -2.426180\n",
       "482     Saba Lobzhanidze   FW              -3.402711\n",
       "483          Ayoze Pérez   FW              -3.572614\n",
       "\n",
       "[484 rows x 3 columns]"
      ],
      "text/html": [
       "<div>\n",
       "<style scoped>\n",
       "    .dataframe tbody tr th:only-of-type {\n",
       "        vertical-align: middle;\n",
       "    }\n",
       "\n",
       "    .dataframe tbody tr th {\n",
       "        vertical-align: top;\n",
       "    }\n",
       "\n",
       "    .dataframe thead th {\n",
       "        text-align: right;\n",
       "    }\n",
       "</style>\n",
       "<table border=\"1\" class=\"dataframe\">\n",
       "  <thead>\n",
       "    <tr style=\"text-align: right;\">\n",
       "      <th></th>\n",
       "      <th>player_name</th>\n",
       "      <th>role</th>\n",
       "      <th>predicted_performance</th>\n",
       "    </tr>\n",
       "  </thead>\n",
       "  <tbody>\n",
       "    <tr>\n",
       "      <th>0</th>\n",
       "      <td>Ollie Watkins</td>\n",
       "      <td>FW</td>\n",
       "      <td>2.479359</td>\n",
       "    </tr>\n",
       "    <tr>\n",
       "      <th>1</th>\n",
       "      <td>Cenk Tosun</td>\n",
       "      <td>FW</td>\n",
       "      <td>1.486857</td>\n",
       "    </tr>\n",
       "    <tr>\n",
       "      <th>2</th>\n",
       "      <td>Niclas Füllkrug</td>\n",
       "      <td>FW</td>\n",
       "      <td>1.424100</td>\n",
       "    </tr>\n",
       "    <tr>\n",
       "      <th>3</th>\n",
       "      <td>Ivan Schranz</td>\n",
       "      <td>FW</td>\n",
       "      <td>1.178540</td>\n",
       "    </tr>\n",
       "    <tr>\n",
       "      <th>4</th>\n",
       "      <td>Jan Mlakar</td>\n",
       "      <td>MF</td>\n",
       "      <td>1.032945</td>\n",
       "    </tr>\n",
       "    <tr>\n",
       "      <th>...</th>\n",
       "      <td>...</td>\n",
       "      <td>...</td>\n",
       "      <td>...</td>\n",
       "    </tr>\n",
       "    <tr>\n",
       "      <th>479</th>\n",
       "      <td>Bartosz Bereszyński</td>\n",
       "      <td>DF</td>\n",
       "      <td>-2.193907</td>\n",
       "    </tr>\n",
       "    <tr>\n",
       "      <th>480</th>\n",
       "      <td>Benjamin Henrichs</td>\n",
       "      <td>DF</td>\n",
       "      <td>-2.195982</td>\n",
       "    </tr>\n",
       "    <tr>\n",
       "      <th>481</th>\n",
       "      <td>Kevin Csoboth</td>\n",
       "      <td>DF</td>\n",
       "      <td>-2.426180</td>\n",
       "    </tr>\n",
       "    <tr>\n",
       "      <th>482</th>\n",
       "      <td>Saba Lobzhanidze</td>\n",
       "      <td>FW</td>\n",
       "      <td>-3.402711</td>\n",
       "    </tr>\n",
       "    <tr>\n",
       "      <th>483</th>\n",
       "      <td>Ayoze Pérez</td>\n",
       "      <td>FW</td>\n",
       "      <td>-3.572614</td>\n",
       "    </tr>\n",
       "  </tbody>\n",
       "</table>\n",
       "<p>484 rows × 3 columns</p>\n",
       "</div>"
      ]
     },
     "execution_count": 60,
     "metadata": {},
     "output_type": "execute_result"
    }
   ],
   "execution_count": 60
  },
  {
   "metadata": {
    "ExecuteTime": {
     "end_time": "2025-10-15T10:43:24.217202Z",
     "start_time": "2025-10-15T10:43:24.133022Z"
    }
   },
   "cell_type": "code",
   "source": [
    "import matplotlib.pyplot as plt\n",
    "\n",
    "top_n = 15\n",
    "top_players = df_ranked.head(top_n)\n",
    "\n",
    "plt.figure(figsize=(10,6))\n",
    "plt.barh(top_players[\"player_name\"][::-1], top_players[\"predicted_performance\"][::-1])\n",
    "plt.xlabel(\"Predicted Performance\")\n",
    "plt.title(f\"Top {top_n} Players by Expected Performance\")\n",
    "plt.show()"
   ],
   "id": "67f521cea695f9dc",
   "outputs": [
    {
     "data": {
      "text/plain": [
       "<Figure size 1000x600 with 1 Axes>"
      ],
      "image/png": "[encoded data removed]"
     },
     "metadata": {},
     "output_type": "display_data"
    }
   ],
   "execution_count": 62
  },
  {
   "metadata": {},
   "cell_type": "markdown",
   "source": "# Step 8: Match epl players with their predictions",
   "id": "8165f2120fe3434b"
  },
  {
   "metadata": {
    "ExecuteTime": {
     "end_time": "2025-10-15T11:05:46.630403Z",
     "start_time": "2025-10-15T11:05:46.202832Z"
    }
   },
   "cell_type": "code",
   "source": [
    "# 1) Fetch EPL player list\n",
    "fb_epl = FBref(leagues=[\"ENG-Premier League\"], seasons=[\"2024-2025\"])\n",
    "epl_std = fb_epl.read_player_season_stats(stat_type=\"standard\").reset_index()\n",
    "\n",
    "# 2) Build a clean name key in both frames (strip accents/case/punct)\n",
    "def clean_name(s):\n",
    "    if pd.isna(s): return s\n",
    "    s = unidecode(str(s)).lower()\n",
    "    return \"\".join(ch for ch in s if ch.isalnum() or ch.isspace()).strip()\n",
    "\n",
    "epl_std[\"player_key\"] = epl_std[\"player\"].map(clean_name)\n",
    "df_model = df_model.copy()\n",
    "df_model[\"player_key\"] = df_model[\"player_name\"].map(clean_name)\n",
    "\n",
    "\n",
    "# 3) Keep only EPL players found\n",
    "epl_keys = set(epl_std[\"player_key\"].dropna().unique())\n",
    "df_epl = df_model[df_model[\"player_key\"].isin(epl_keys)].copy()\n",
    "\n",
    "# 4) Make sure feature columns line up with what the model was trained on\n",
    "# (X_cols is what you used for training: num_feats + role dummies in that exact order)\n",
    "role_dummies_full = pd.get_dummies(df_epl[\"role\"], prefix=\"role\")\n",
    "X_new = pd.concat([df_epl[num_feats].astype(float), role_dummies_full], axis=1)\n",
    "\n",
    "# align to training columns (any missing dummy gets filled with 0)\n",
    "X_new = X_new.reindex(columns=X.columns, fill_value=0)\n",
    "\n",
    "# 5) Predict and rank\n",
    "df_epl[\"predicted_performance\"] = best_pipe.predict(X_new)\n",
    "df_epl_ranked = (\n",
    "    df_epl\n",
    "      .sort_values(\"predicted_performance\", ascending=False)\n",
    "      .reset_index(drop=True)\n",
    ")\n",
    "\n",
    "# 6) Inspect/save\n",
    "cols_show = [\"player_name\", \"team_name\", \"role\", \"predicted_performance\"]\n",
    "print(df_epl_ranked[cols_show].head(20))\n",
    "df_epl_ranked[cols_show].to_csv(\"premier_league_player_rankings.csv\", index=False)"
   ],
   "id": "b8ea6e6b44295a7e",
   "outputs": [
    {
     "data": {
      "text/plain": [
       "\u001B[2;36m[10/15/25 14:05:46]\u001B[0m\u001B[2;36m \u001B[0m\u001B[34mINFO    \u001B[0m Saving cached data to \u001B[35m/Users/derrick/soccerdata/data/\u001B[0m\u001B[95mFBref\u001B[0m              \u001B]8;id=145797;file:///Users/derrick/DataspellProjects/epl/epl-predictor/backend/epl/lib/python3.11/site-packages/soccerdata/_common.py\u001B\\\u001B[2m_common.py\u001B[0m\u001B]8;;\u001B\\\u001B[2m:\u001B[0m\u001B]8;id=714434;file:///Users/derrick/DataspellProjects/epl/epl-predictor/backend/epl/lib/python3.11/site-packages/soccerdata/_common.py#263\u001B\\\u001B[2m263\u001B[0m\u001B]8;;\u001B\\\n"
      ],
      "text/html": [
       "<pre style=\"white-space:pre;overflow-x:auto;line-height:normal;font-family:Menlo,'DejaVu Sans Mono',consolas,'Courier New',monospace\"><span style=\"color: #7fbfbf; text-decoration-color: #7fbfbf\">[10/15/25 14:05:46] </span><span style=\"color: #000080; text-decoration-color: #000080\">INFO    </span> Saving cached data to <span style=\"color: #800080; text-decoration-color: #800080\">/Users/derrick/soccerdata/data/</span><span style=\"color: #ff00ff; text-decoration-color: #ff00ff\">FBref</span>              <a href=\"file:///Users/derrick/DataspellProjects/epl/epl-predictor/backend/epl/lib/python3.11/site-packages/soccerdata/_common.py\" target=\"_blank\"><span style=\"color: #7f7f7f; text-decoration-color: #7f7f7f\">_common.py</span></a><span style=\"color: #7f7f7f; text-decoration-color: #7f7f7f\">:</span><a href=\"file:///Users/derrick/DataspellProjects/epl/epl-predictor/backend/epl/lib/python3.11/site-packages/soccerdata/_common.py#263\" target=\"_blank\"><span style=\"color: #7f7f7f; text-decoration-color: #7f7f7f\">263</span></a>\n",
       "</pre>\n"
      ]
     },
     "metadata": {},
     "output_type": "display_data"
    },
    {
     "data": {
      "text/plain": [
       "\u001B[2;36m                   \u001B[0m\u001B[2;36m \u001B[0m\u001B[33mWARNING \u001B[0m \u001B[35m/Users/derrick/DataspellProjects/epl/epl-predictor/backend/epl/lib/pyt\u001B[0m \u001B]8;id=708513;file:///Library/Frameworks/Python.framework/Versions/3.11/lib/python3.11/warnings.py\u001B\\\u001B[2mwarnings.py\u001B[0m\u001B]8;;\u001B\\\u001B[2m:\u001B[0m\u001B]8;id=865768;file:///Library/Frameworks/Python.framework/Versions/3.11/lib/python3.11/warnings.py#110\u001B\\\u001B[2m110\u001B[0m\u001B]8;;\u001B\\\n",
       "\u001B[2;36m                    \u001B[0m         \u001B[35mhon3.11/site-packages/soccerdata/\u001B[0m\u001B[95mfbref.py\u001B[0m:\u001B[1;36m165\u001B[0m: FutureWarning: The      \u001B[2m               \u001B[0m\n",
       "\u001B[2;36m                    \u001B[0m         behavior of DataFrame concatenation with empty or all-NA entries is    \u001B[2m               \u001B[0m\n",
       "\u001B[2;36m                    \u001B[0m         deprecated. In a future version, this will no longer exclude empty or  \u001B[2m               \u001B[0m\n",
       "\u001B[2;36m                    \u001B[0m         all-NA columns when determining the result dtypes. To retain the old   \u001B[2m               \u001B[0m\n",
       "\u001B[2;36m                    \u001B[0m         behavior, exclude the relevant entries before the concat operation.    \u001B[2m               \u001B[0m\n",
       "\u001B[2;36m                    \u001B[0m           \u001B[1;35mpd.concat\u001B[0m\u001B[1m(\u001B[0mdfs\u001B[1m)\u001B[0m                                                       \u001B[2m               \u001B[0m\n",
       "\u001B[2;36m                    \u001B[0m                                                                                \u001B[2m               \u001B[0m\n"
      ],
      "text/html": [
       "<pre style=\"white-space:pre;overflow-x:auto;line-height:normal;font-family:Menlo,'DejaVu Sans Mono',consolas,'Courier New',monospace\"><span style=\"color: #7fbfbf; text-decoration-color: #7fbfbf\">                    </span><span style=\"color: #808000; text-decoration-color: #808000\">WARNING </span> <span style=\"color: #800080; text-decoration-color: #800080\">/Users/derrick/DataspellProjects/epl/epl-predictor/backend/epl/lib/pyt</span> <a href=\"file:///Library/Frameworks/Python.framework/Versions/3.11/lib/python3.11/warnings.py\" target=\"_blank\"><span style=\"color: #7f7f7f; text-decoration-color: #7f7f7f\">warnings.py</span></a><span style=\"color: #7f7f7f; text-decoration-color: #7f7f7f\">:</span><a href=\"file:///Library/Frameworks/Python.framework/Versions/3.11/lib/python3.11/warnings.py#110\" target=\"_blank\"><span style=\"color: #7f7f7f; text-decoration-color: #7f7f7f\">110</span></a>\n",
       "<span style=\"color: #7fbfbf; text-decoration-color: #7fbfbf\">                    </span>         <span style=\"color: #800080; text-decoration-color: #800080\">hon3.11/site-packages/soccerdata/</span><span style=\"color: #ff00ff; text-decoration-color: #ff00ff\">fbref.py</span>:<span style=\"color: #008080; text-decoration-color: #008080; font-weight: bold\">165</span>: FutureWarning: The      <span style=\"color: #7f7f7f; text-decoration-color: #7f7f7f\">               </span>\n",
       "<span style=\"color: #7fbfbf; text-decoration-color: #7fbfbf\">                    </span>         behavior of DataFrame concatenation with empty or all-NA entries is    <span style=\"color: #7f7f7f; text-decoration-color: #7f7f7f\">               </span>\n",
       "<span style=\"color: #7fbfbf; text-decoration-color: #7fbfbf\">                    </span>         deprecated. In a future version, this will no longer exclude empty or  <span style=\"color: #7f7f7f; text-decoration-color: #7f7f7f\">               </span>\n",
       "<span style=\"color: #7fbfbf; text-decoration-color: #7fbfbf\">                    </span>         all-NA columns when determining the result dtypes. To retain the old   <span style=\"color: #7f7f7f; text-decoration-color: #7f7f7f\">               </span>\n",
       "<span style=\"color: #7fbfbf; text-decoration-color: #7fbfbf\">                    </span>         behavior, exclude the relevant entries before the concat operation.    <span style=\"color: #7f7f7f; text-decoration-color: #7f7f7f\">               </span>\n",
       "<span style=\"color: #7fbfbf; text-decoration-color: #7fbfbf\">                    </span>           <span style=\"color: #800080; text-decoration-color: #800080; font-weight: bold\">pd.concat</span><span style=\"font-weight: bold\">(</span>dfs<span style=\"font-weight: bold\">)</span>                                                       <span style=\"color: #7f7f7f; text-decoration-color: #7f7f7f\">               </span>\n",
       "<span style=\"color: #7fbfbf; text-decoration-color: #7fbfbf\">                    </span>                                                                                <span style=\"color: #7f7f7f; text-decoration-color: #7f7f7f\">               </span>\n",
       "</pre>\n"
      ]
     },
     "metadata": {},
     "output_type": "display_data"
    },
    {
     "name": "stdout",
     "output_type": "stream",
     "text": [
      "          player_name    team_name role  predicted_performance\n",
      "0     Scott McTominay     Scotland   MF               0.360409\n",
      "1         Bukayo Saka      England   FW               0.351093\n",
      "2      Bernardo Silva     Portugal   FW               0.345798\n",
      "3               Rodri        Spain   MF               0.342341\n",
      "4         Kyle Walker      England   DF               0.270788\n",
      "5          David Raya        Spain   GK               0.270259\n",
      "6      Altay Bayındır      Türkiye   GK               0.269396\n",
      "7     Jordan Pickford      England   GK               0.269308\n",
      "8         John Stones      England   DF               0.269308\n",
      "9          Rúben Dias     Portugal   DF               0.268859\n",
      "10      Manuel Akanji  Switzerland   DF               0.268561\n",
      "11     William Saliba       France   DF               0.268439\n",
      "12    Martin Dúbravka     Slovakia   GK               0.268162\n",
      "13          Wout Faes      Belgium   DF               0.268072\n",
      "14   Timothy Castagne      Belgium   DF               0.267830\n",
      "15  Nikola Milenković       Serbia   DF               0.267656\n",
      "16        John McGinn     Scotland   MF               0.267632\n",
      "17   Andrew Robertson     Scotland   DF               0.267603\n",
      "18     Kieran Tierney     Scotland   DF               0.265375\n",
      "19           Jorginho        Italy   MF               0.264851\n"
     ]
    }
   ],
   "execution_count": 71
  },
  {
   "metadata": {},
   "cell_type": "markdown",
   "source": "Use a 5-star rating for the players",
   "id": "5e8f428a0059b2b9"
  },
  {
   "metadata": {
    "ExecuteTime": {
     "end_time": "2025-10-15T11:15:15.701046Z",
     "start_time": "2025-10-15T11:15:15.689500Z"
    }
   },
   "cell_type": "code",
   "source": [
    "df = df_epl_ranked.copy()  # has 'predicted_performance'\n",
    "\n",
    "# Robust scaling anchors\n",
    "p5, p95 = np.nanpercentile(df[\"predicted_performance\"], [5, 95])\n",
    "den = (p95 - p5) if (p95 - p5) != 0 else 1.0\n",
    "\n",
    "# Map to [1, 5], clip, and round to 1 decimal\n",
    "scaled = (df[\"predicted_performance\"] - p5) / den\n",
    "rating = 1.0 + 4.0 * scaled\n",
    "df[\"rating_5pt\"] = np.clip(rating, 1.0, 5.0).round(1)\n",
    "\n",
    "# Nice, ranked view\n",
    "cols_show = [\"player_name\", \"team_name\", \"role\", \"predicted_performance\", \"rating_5pt\"]\n",
    "df_out = df.sort_values([\"rating_5pt\", \"predicted_performance\"], ascending=[False, False])[cols_show]\n",
    "print(df_out.head(25))\n",
    "\n",
    "# Save if you like\n",
    "df_out.to_csv(\"premier_league_player_ratings_5pt.csv\", index=False)"
   ],
   "id": "97ef9ce8c22291ca",
   "outputs": [
    {
     "name": "stdout",
     "output_type": "stream",
     "text": [
      "          player_name    team_name role  predicted_performance  rating_5pt\n",
      "0     Scott McTominay     Scotland   MF               0.360409         5.0\n",
      "1         Bukayo Saka      England   FW               0.351093         5.0\n",
      "2      Bernardo Silva     Portugal   FW               0.345798         5.0\n",
      "3               Rodri        Spain   MF               0.342341         5.0\n",
      "4         Kyle Walker      England   DF               0.270788         5.0\n",
      "5          David Raya        Spain   GK               0.270259         5.0\n",
      "6      Altay Bayındır      Türkiye   GK               0.269396         5.0\n",
      "7     Jordan Pickford      England   GK               0.269308         5.0\n",
      "8         John Stones      England   DF               0.269308         5.0\n",
      "9          Rúben Dias     Portugal   DF               0.268859         5.0\n",
      "10      Manuel Akanji  Switzerland   DF               0.268561         5.0\n",
      "11     William Saliba       France   DF               0.268439         5.0\n",
      "12    Martin Dúbravka     Slovakia   GK               0.268162         5.0\n",
      "13          Wout Faes      Belgium   DF               0.268072         5.0\n",
      "14   Timothy Castagne      Belgium   DF               0.267830         5.0\n",
      "15  Nikola Milenković       Serbia   DF               0.267656         5.0\n",
      "16        John McGinn     Scotland   MF               0.267632         5.0\n",
      "17   Andrew Robertson     Scotland   DF               0.267603         5.0\n",
      "18     Kieran Tierney     Scotland   DF               0.265375         5.0\n",
      "19           Jorginho        Italy   MF               0.264851         5.0\n",
      "20    Bart Verbruggen  Netherlands   GK               0.260873         5.0\n",
      "21     Illia Zabarnyi      Ukraine   DF               0.260488         5.0\n",
      "22         Nathan Aké  Netherlands   DF               0.257618         5.0\n",
      "23  Vitaliy Mykolenko      Ukraine   DF               0.256260         5.0\n",
      "24     İlkay Gündoğan      Germany   MF               0.246231         4.9\n"
     ]
    }
   ],
   "execution_count": 78
  },
  {
   "metadata": {
    "ExecuteTime": {
     "end_time": "2025-10-15T11:39:28.536386Z",
     "start_time": "2025-10-15T11:39:28.418810Z"
    }
   },
   "cell_type": "code",
   "source": [
    "# --- 1) Flatten MultiIndex columns from epl_info ---\n",
    "def flatten_cols(df: pd.DataFrame) -> pd.DataFrame:\n",
    "    if isinstance(df.columns, pd.MultiIndex):\n",
    "        df = df.copy()\n",
    "        df.columns = [\n",
    "            \"_\".join([str(x).strip().lower().replace(\" \", \"_\")\n",
    "                      for x in tup if x and str(x) != \"nan\"]).strip(\"_\")\n",
    "            for tup in df.columns.tolist()\n",
    "        ]\n",
    "    else:\n",
    "        df = df.copy()\n",
    "        df.columns = [str(c).strip().lower().replace(\" \", \"_\") for c in df.columns]\n",
    "    return df\n",
    "\n",
    "epl_flat = flatten_cols(epl_info)\n",
    "\n",
    "# --- 2) Choose team & age columns robustly ---\n",
    "team_col = \"team\" if \"team\" in epl_flat.columns else (\"squad\" if \"squad\" in epl_flat.columns else None)\n",
    "age_col  = \"age\"  if \"age\"  in epl_flat.columns else None\n",
    "\n",
    "if team_col is None:\n",
    "    raise ValueError(f\"Couldn't find team column in EPL data. Got: {list(epl_flat.columns)[:25]}\")\n",
    "if age_col is None:\n",
    "    raise ValueError(f\"Couldn't find age column in EPL data. Got: {list(epl_flat.columns)[:25]}\")\n",
    "\n",
    "# --- 3) Make a clean join key on both sides ---\n",
    "def clean_name(s):\n",
    "    if pd.isna(s):\n",
    "        return s\n",
    "    s = str(s).lower().strip()\n",
    "    s = \"\".join(c for c in unicodedata.normalize(\"NFKD\", s) if not unicodedata.combining(c))\n",
    "    s = \"\".join(ch for ch in s if ch.isalnum() or ch.isspace())\n",
    "    return s\n",
    "\n",
    "df = df.copy()\n",
    "df[\"player_key\"] = df[\"player_name\"].map(clean_name)\n",
    "\n",
    "epl_join = (\n",
    "    epl_flat\n",
    "      .assign(player_key=lambda d: d[\"player\"].map(clean_name))\n",
    "      [[ \"player_key\", team_col, age_col ]]\n",
    "      .dropna(subset=[\"player_key\"])\n",
    "      .drop_duplicates(\"player_key\")\n",
    "      .rename(columns={team_col: \"team\", age_col: \"age\"})\n",
    ")\n",
    "\n",
    "# --- 4) Merge and rate 1.0–5.0 ---\n",
    "merged = df.merge(epl_join, on=\"player_key\", how=\"left\")\n",
    "\n",
    "p5, p95 = np.nanpercentile(merged[\"predicted_performance\"], [5, 95])\n",
    "den = (p95 - p5) if (p95 - p5) != 0 else 1.0\n",
    "scaled = (merged[\"predicted_performance\"] - p5) / den\n",
    "merged[\"rating_5pt\"] = np.clip(1.0 + 4.0 * scaled, 1.0, 5.0).round(1)\n",
    "\n",
    "final_df = (\n",
    "    merged[[\"player_name\", \"age\", \"team\", \"role\", \"predicted_performance\", \"rating_5pt\"]]\n",
    "      .sort_values([\"rating_5pt\", \"predicted_performance\"], ascending=[False, False])\n",
    "      .reset_index(drop=True)\n",
    ")\n",
    "\n",
    "final_df.to_csv(\"premier_league_player_ratings_final.csv\", index=False)\n",
    "print(final_df.head(15))"
   ],
   "id": "1b679eee7f59469b",
   "outputs": [
    {
     "ename": "KeyError",
     "evalue": "\"['age'] not in index\"",
     "output_type": "error",
     "traceback": [
      "\u001B[31m---------------------------------------------------------------------------\u001B[39m",
      "\u001B[31mKeyError\u001B[39m                                  Traceback (most recent call last)",
      "\u001B[36mCell\u001B[39m\u001B[36m \u001B[39m\u001B[32mIn[83]\u001B[39m\u001B[32m, line 56\u001B[39m\n\u001B[32m     52\u001B[39m scaled = (merged[\u001B[33m\"\u001B[39m\u001B[33mpredicted_performance\u001B[39m\u001B[33m\"\u001B[39m] - p5) / den\n\u001B[32m     53\u001B[39m merged[\u001B[33m\"\u001B[39m\u001B[33mrating_5pt\u001B[39m\u001B[33m\"\u001B[39m] = np.clip(\u001B[32m1.0\u001B[39m + \u001B[32m4.0\u001B[39m * scaled, \u001B[32m1.0\u001B[39m, \u001B[32m5.0\u001B[39m).round(\u001B[32m1\u001B[39m)\n\u001B[32m     55\u001B[39m final_df = (\n\u001B[32m---> \u001B[39m\u001B[32m56\u001B[39m     \u001B[43mmerged\u001B[49m\u001B[43m[\u001B[49m\u001B[43m[\u001B[49m\u001B[33;43m\"\u001B[39;49m\u001B[33;43mplayer_name\u001B[39;49m\u001B[33;43m\"\u001B[39;49m\u001B[43m,\u001B[49m\u001B[43m \u001B[49m\u001B[33;43m\"\u001B[39;49m\u001B[33;43mage\u001B[39;49m\u001B[33;43m\"\u001B[39;49m\u001B[43m,\u001B[49m\u001B[43m \u001B[49m\u001B[33;43m\"\u001B[39;49m\u001B[33;43mteam\u001B[39;49m\u001B[33;43m\"\u001B[39;49m\u001B[43m,\u001B[49m\u001B[43m \u001B[49m\u001B[33;43m\"\u001B[39;49m\u001B[33;43mrole\u001B[39;49m\u001B[33;43m\"\u001B[39;49m\u001B[43m,\u001B[49m\u001B[43m \u001B[49m\u001B[33;43m\"\u001B[39;49m\u001B[33;43mpredicted_performance\u001B[39;49m\u001B[33;43m\"\u001B[39;49m\u001B[43m,\u001B[49m\u001B[43m \u001B[49m\u001B[33;43m\"\u001B[39;49m\u001B[33;43mrating_5pt\u001B[39;49m\u001B[33;43m\"\u001B[39;49m\u001B[43m]\u001B[49m\u001B[43m]\u001B[49m\n\u001B[32m     57\u001B[39m       .sort_values([\u001B[33m\"\u001B[39m\u001B[33mrating_5pt\u001B[39m\u001B[33m\"\u001B[39m, \u001B[33m\"\u001B[39m\u001B[33mpredicted_performance\u001B[39m\u001B[33m\"\u001B[39m], ascending=[\u001B[38;5;28;01mFalse\u001B[39;00m, \u001B[38;5;28;01mFalse\u001B[39;00m])\n\u001B[32m     58\u001B[39m       .reset_index(drop=\u001B[38;5;28;01mTrue\u001B[39;00m)\n\u001B[32m     59\u001B[39m )\n\u001B[32m     61\u001B[39m final_df.to_csv(\u001B[33m\"\u001B[39m\u001B[33mpremier_league_player_ratings_final.csv\u001B[39m\u001B[33m\"\u001B[39m, index=\u001B[38;5;28;01mFalse\u001B[39;00m)\n\u001B[32m     62\u001B[39m \u001B[38;5;28mprint\u001B[39m(final_df.head(\u001B[32m15\u001B[39m))\n",
      "\u001B[36mFile \u001B[39m\u001B[32m~/DataspellProjects/epl/epl-predictor/backend/epl/lib/python3.11/site-packages/pandas/core/frame.py:4119\u001B[39m, in \u001B[36mDataFrame.__getitem__\u001B[39m\u001B[34m(self, key)\u001B[39m\n\u001B[32m   4117\u001B[39m     \u001B[38;5;28;01mif\u001B[39;00m is_iterator(key):\n\u001B[32m   4118\u001B[39m         key = \u001B[38;5;28mlist\u001B[39m(key)\n\u001B[32m-> \u001B[39m\u001B[32m4119\u001B[39m     indexer = \u001B[38;5;28;43mself\u001B[39;49m\u001B[43m.\u001B[49m\u001B[43mcolumns\u001B[49m\u001B[43m.\u001B[49m\u001B[43m_get_indexer_strict\u001B[49m\u001B[43m(\u001B[49m\u001B[43mkey\u001B[49m\u001B[43m,\u001B[49m\u001B[43m \u001B[49m\u001B[33;43m\"\u001B[39;49m\u001B[33;43mcolumns\u001B[39;49m\u001B[33;43m\"\u001B[39;49m\u001B[43m)\u001B[49m[\u001B[32m1\u001B[39m]\n\u001B[32m   4121\u001B[39m \u001B[38;5;66;03m# take() does not accept boolean indexers\u001B[39;00m\n\u001B[32m   4122\u001B[39m \u001B[38;5;28;01mif\u001B[39;00m \u001B[38;5;28mgetattr\u001B[39m(indexer, \u001B[33m\"\u001B[39m\u001B[33mdtype\u001B[39m\u001B[33m\"\u001B[39m, \u001B[38;5;28;01mNone\u001B[39;00m) == \u001B[38;5;28mbool\u001B[39m:\n",
      "\u001B[36mFile \u001B[39m\u001B[32m~/DataspellProjects/epl/epl-predictor/backend/epl/lib/python3.11/site-packages/pandas/core/indexes/base.py:6212\u001B[39m, in \u001B[36mIndex._get_indexer_strict\u001B[39m\u001B[34m(self, key, axis_name)\u001B[39m\n\u001B[32m   6209\u001B[39m \u001B[38;5;28;01melse\u001B[39;00m:\n\u001B[32m   6210\u001B[39m     keyarr, indexer, new_indexer = \u001B[38;5;28mself\u001B[39m._reindex_non_unique(keyarr)\n\u001B[32m-> \u001B[39m\u001B[32m6212\u001B[39m \u001B[38;5;28;43mself\u001B[39;49m\u001B[43m.\u001B[49m\u001B[43m_raise_if_missing\u001B[49m\u001B[43m(\u001B[49m\u001B[43mkeyarr\u001B[49m\u001B[43m,\u001B[49m\u001B[43m \u001B[49m\u001B[43mindexer\u001B[49m\u001B[43m,\u001B[49m\u001B[43m \u001B[49m\u001B[43maxis_name\u001B[49m\u001B[43m)\u001B[49m\n\u001B[32m   6214\u001B[39m keyarr = \u001B[38;5;28mself\u001B[39m.take(indexer)\n\u001B[32m   6215\u001B[39m \u001B[38;5;28;01mif\u001B[39;00m \u001B[38;5;28misinstance\u001B[39m(key, Index):\n\u001B[32m   6216\u001B[39m     \u001B[38;5;66;03m# GH 42790 - Preserve name from an Index\u001B[39;00m\n",
      "\u001B[36mFile \u001B[39m\u001B[32m~/DataspellProjects/epl/epl-predictor/backend/epl/lib/python3.11/site-packages/pandas/core/indexes/base.py:6264\u001B[39m, in \u001B[36mIndex._raise_if_missing\u001B[39m\u001B[34m(self, key, indexer, axis_name)\u001B[39m\n\u001B[32m   6261\u001B[39m     \u001B[38;5;28;01mraise\u001B[39;00m \u001B[38;5;167;01mKeyError\u001B[39;00m(\u001B[33mf\u001B[39m\u001B[33m\"\u001B[39m\u001B[33mNone of [\u001B[39m\u001B[38;5;132;01m{\u001B[39;00mkey\u001B[38;5;132;01m}\u001B[39;00m\u001B[33m] are in the [\u001B[39m\u001B[38;5;132;01m{\u001B[39;00maxis_name\u001B[38;5;132;01m}\u001B[39;00m\u001B[33m]\u001B[39m\u001B[33m\"\u001B[39m)\n\u001B[32m   6263\u001B[39m not_found = \u001B[38;5;28mlist\u001B[39m(ensure_index(key)[missing_mask.nonzero()[\u001B[32m0\u001B[39m]].unique())\n\u001B[32m-> \u001B[39m\u001B[32m6264\u001B[39m \u001B[38;5;28;01mraise\u001B[39;00m \u001B[38;5;167;01mKeyError\u001B[39;00m(\u001B[33mf\u001B[39m\u001B[33m\"\u001B[39m\u001B[38;5;132;01m{\u001B[39;00mnot_found\u001B[38;5;132;01m}\u001B[39;00m\u001B[33m not in index\u001B[39m\u001B[33m\"\u001B[39m)\n",
      "\u001B[31mKeyError\u001B[39m: \"['age'] not in index\""
     ]
    }
   ],
   "execution_count": 83
  }
 ],
 "metadata": {
  "kernelspec": {
   "display_name": "Python 3",
   "language": "python",
   "name": "python3"
  },
  "language_info": {
   "codemirror_mode": {
    "name": "ipython",
    "version": 2
   },
   "file_extension": ".py",
   "mimetype": "text/x-python",
   "name": "python",
   "nbconvert_exporter": "python",
   "pygments_lexer": "ipython2",
   "version": "2.7.6"
  }
 },
 "nbformat": 4,
 "nbformat_minor": 5
}
